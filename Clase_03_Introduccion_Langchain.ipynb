{
 "cells": [
  {
   "cell_type": "markdown",
   "metadata": {
    "id": "sHqfwjHTrPVe"
   },
   "source": [
    "---\n",
    "<p align=\"center\">\n",
    "  <img src=\"https://github.com/lacamposm/course-fundamentals-llms-openai-langchain/raw/main/images/image_igac.jpg\" alt=\"Imagen_IGAC\" width=\"280\">\n",
    "</p>"
   ]
  },
  {
   "cell_type": "markdown",
   "metadata": {
    "id": "CcolQEVcoqh7"
   },
   "source": [
    "---\n",
    "\n",
    "# ***Fundamentos de LLMs con Python: Explorando ChatGPT y LangChain***\n",
    "\n",
    "---\n",
    "\n",
    "#### ***Instructor: [Luis Andrés Campos Maldonado](https://www.linkedin.com/in/lacamposm/)***\n",
    "\n",
    "##### ***Email: luisandres.campos@igac.gov.co***\n",
    "\n",
    "##### ***Contratista-Observatorio Inmobiliario Catastral***\n",
    "\n",
    "\n",
    "\n"
   ]
  },
  {
   "cell_type": "markdown",
   "metadata": {
    "id": "rdTcl3zMr7OA"
   },
   "source": [
    "---\n",
    "\n",
    "# ***Clase 03 - 01 de Marzo de 2024***\n",
    "---\n",
    "\n",
    "## ***Introducción a LangChain.***\n",
    "\n",
    "**Objetivos de Aprendizaje:**\n",
    "\n",
    "- Presentar LangChain y su propósito en el ecosistema de inteligencia artificial y procesamiento de lenguaje natural.\n",
    "- Enseñar cómo instalar y configurar LangChain.\n",
    "- Mostrar ejemplos básicos de cómo LangChain puede ser utilizado para crear aplicaciones de lenguaje natural"
   ]
  },
  {
   "cell_type": "markdown",
   "metadata": {},
   "source": [
    "# ***[LangChain](https://python.langchain.com/docs/get_started/introduction)***\n",
    "\n",
    "LangChain es una herramienta revolucionaria en el ámbito de la inteligencia artificial y el procesamiento del lenguaje natural (NLP). Ofrece un framework con el cual se pueden desarrollar aplicaciones que permiten a los _LLMs_ conexión con fuentes de contexto variadas, como instrucciones en el prompt o contenido específico en documentos para razonar sobre como responder o qué acciones tomar basándose en el contexto proporcionado.\n",
    "\n",
    "LangChain se posiciona como el arquitecto detrás del escenario, orquestando cómo los modelos de lenguaje como ChatGPT interactúan con el usuario y el entorno. Su propósito es permitir que las aplicaciones sean:\n",
    "\n",
    "- Conscientes del Contexto: Que puedan entender y utilizar la información pertinente para proporcionar respuestas y acciones relevantes.\n",
    "- Capaces de Razonar: Que no solo respondan a preguntas sino que también tomen decisiones informadas basadas en la información disponible.\n",
    "\n",
    "Para lograr esto, LangChain ofrece:\n",
    "\n",
    "- Librerias en Python y JavaScript: Herramientas y componentes que puedes ensamblar como bloques de construcción para aplicaciones.\n",
    "- Plantillas de Referencia: Arquitecturas predefinidas que sirven como punto de partida para una variedad de tareas, desde chatbots hasta sistemas de análisis de datos.\n",
    "- LangServe: Un mecanismo para desplegar aplicaciones como APIs REST, lo que significa que puedes integrarlas fácilmente en otras aplicaciones y servicios.\n",
    "- LangSmith: Una plataforma de desarrollo que te permite probar y perfeccionar tus aplicaciones, garantizando que funcionen como se espera antes de lanzarlas al mundo.\n",
    "\n",
    "En un ecosistema donde los modelos de lenguaje están evolucionando rápidamente, LangChain actúa como un catalizador, permitiendo que incluso aquellos con conocimientos básicos de programación puedan implementar soluciones complejas de NLP. Esto democratiza el acceso a la IA y abre un mundo de posibilidades para innovar y resolver problemas reales.\n",
    "\n",
    "Con LangChain, estamos no solo aprendiendo a comunicarnos con la inteligencia artificial sino también a construir relaciones \"simbióticas\" donde las máquinas se convierten en colaboradores inteligentes, expandiendo nuestras capacidades y llevando nuestras ideas más lejos de lo que era posible antes."
   ]
  },
  {
   "cell_type": "markdown",
   "metadata": {},
   "source": [
    "### ***Model I/O***\n",
    "\n",
    "Model I/O\" (Model Input/Output) es un componente que se encarga de la interacción con los LLMs, manejando cómo se envían los datos (input) al modelo y cómo se reciben las respuestas (output) de él.\n",
    "\n",
    "En el input, este componente puede incluir la preparación de los prompts, que son las instrucciones o preguntas formuladas al modelo de lenguaje. Estos prompts son cruciales, ya que guían al modelo sobre la tarea que se espera que realice, ya sea responder una pregunta, generar texto, completar una idea, etc.\n",
    "\n",
    "En cuanto al output, el componente Model I/O gestiona la interpretación de las respuestas generadas por el modelo. Esto puede implicar el análisis de texto, la extracción de información relevante, la conversión de la respuesta a un formato específico, o la integración de la salida en una aplicación más amplia.\n",
    "\n",
    "En resumen, Model I/O actúa como el mediador entre la aplicación que estás desarrollando y el modelo de lenguaje, asegurando que la comunicación sea fluida y que los datos se manejen de manera efectiva.\n",
    "\n",
    "<p align=\"center\">\n",
    "  <img src=\"https://github.com/lacamposm/course-fundamentals-llms-openai-langchain/raw/main/images/model_io.jpg\" alt=\"model_io\" width=\"900\" height=\"350\">\n",
    "</p>"
   ]
  },
  {
   "cell_type": "markdown",
   "metadata": {},
   "source": [
    "## ***Usando LangChain con Python***\n",
    "\n",
    "\n",
    "En esta sección, nos enfocaremos en cómo implementar LangChain con Python y la [API de OpenAI](https://platform.openai.com/api-keys) para desarrollar aplicaciones de procesamiento de lenguaje natural (NLP). LangChain nos permite integrar modelos de lenguaje avanzados, como GPT-3, con la flexibilidad de Python, abriendo un abanico de posibilidades para crear soluciones de NLP innovadoras y eficientes."
   ]
  },
  {
   "cell_type": "code",
   "execution_count": 1,
   "metadata": {},
   "outputs": [
    {
     "name": "stdout",
     "output_type": "stream",
     "text": [
      "Requirement already satisfied: langchain in ./.venv/lib/python3.10/site-packages (0.1.9)\n",
      "Requirement already satisfied: openai in ./.venv/lib/python3.10/site-packages (1.13.3)\n",
      "Requirement already satisfied: langchain-openai in ./.venv/lib/python3.10/site-packages (0.0.8)\n",
      "Requirement already satisfied: PyYAML>=5.3 in ./.venv/lib/python3.10/site-packages (from langchain) (6.0.1)\n",
      "Requirement already satisfied: SQLAlchemy<3,>=1.4 in ./.venv/lib/python3.10/site-packages (from langchain) (2.0.27)\n",
      "Requirement already satisfied: aiohttp<4.0.0,>=3.8.3 in ./.venv/lib/python3.10/site-packages (from langchain) (3.9.3)\n",
      "Requirement already satisfied: async-timeout<5.0.0,>=4.0.0 in ./.venv/lib/python3.10/site-packages (from langchain) (4.0.3)\n",
      "Requirement already satisfied: dataclasses-json<0.7,>=0.5.7 in ./.venv/lib/python3.10/site-packages (from langchain) (0.6.4)\n",
      "Requirement already satisfied: jsonpatch<2.0,>=1.33 in ./.venv/lib/python3.10/site-packages (from langchain) (1.33)\n",
      "Requirement already satisfied: langchain-community<0.1,>=0.0.21 in ./.venv/lib/python3.10/site-packages (from langchain) (0.0.24)\n",
      "Requirement already satisfied: langchain-core<0.2,>=0.1.26 in ./.venv/lib/python3.10/site-packages (from langchain) (0.1.28)\n",
      "Requirement already satisfied: langsmith<0.2.0,>=0.1.0 in ./.venv/lib/python3.10/site-packages (from langchain) (0.1.10)\n",
      "Requirement already satisfied: numpy<2,>=1 in ./.venv/lib/python3.10/site-packages (from langchain) (1.26.4)\n",
      "Requirement already satisfied: pydantic<3,>=1 in ./.venv/lib/python3.10/site-packages (from langchain) (2.6.3)\n",
      "Requirement already satisfied: requests<3,>=2 in ./.venv/lib/python3.10/site-packages (from langchain) (2.31.0)\n",
      "Requirement already satisfied: tenacity<9.0.0,>=8.1.0 in ./.venv/lib/python3.10/site-packages (from langchain) (8.2.3)\n",
      "Requirement already satisfied: anyio<5,>=3.5.0 in ./.venv/lib/python3.10/site-packages (from openai) (4.3.0)\n",
      "Requirement already satisfied: distro<2,>=1.7.0 in ./.venv/lib/python3.10/site-packages (from openai) (1.9.0)\n",
      "Requirement already satisfied: httpx<1,>=0.23.0 in ./.venv/lib/python3.10/site-packages (from openai) (0.27.0)\n",
      "Requirement already satisfied: sniffio in ./.venv/lib/python3.10/site-packages (from openai) (1.3.1)\n",
      "Requirement already satisfied: tqdm>4 in ./.venv/lib/python3.10/site-packages (from openai) (4.66.2)\n",
      "Requirement already satisfied: typing-extensions<5,>=4.7 in ./.venv/lib/python3.10/site-packages (from openai) (4.10.0)\n",
      "Requirement already satisfied: tiktoken<1,>=0.5.2 in ./.venv/lib/python3.10/site-packages (from langchain-openai) (0.6.0)\n",
      "Requirement already satisfied: aiosignal>=1.1.2 in ./.venv/lib/python3.10/site-packages (from aiohttp<4.0.0,>=3.8.3->langchain) (1.3.1)\n",
      "Requirement already satisfied: attrs>=17.3.0 in ./.venv/lib/python3.10/site-packages (from aiohttp<4.0.0,>=3.8.3->langchain) (23.2.0)\n",
      "Requirement already satisfied: frozenlist>=1.1.1 in ./.venv/lib/python3.10/site-packages (from aiohttp<4.0.0,>=3.8.3->langchain) (1.4.1)\n",
      "Requirement already satisfied: multidict<7.0,>=4.5 in ./.venv/lib/python3.10/site-packages (from aiohttp<4.0.0,>=3.8.3->langchain) (6.0.5)\n",
      "Requirement already satisfied: yarl<2.0,>=1.0 in ./.venv/lib/python3.10/site-packages (from aiohttp<4.0.0,>=3.8.3->langchain) (1.9.4)\n",
      "Requirement already satisfied: idna>=2.8 in ./.venv/lib/python3.10/site-packages (from anyio<5,>=3.5.0->openai) (3.6)\n",
      "Requirement already satisfied: exceptiongroup>=1.0.2 in ./.venv/lib/python3.10/site-packages (from anyio<5,>=3.5.0->openai) (1.2.0)\n",
      "Requirement already satisfied: marshmallow<4.0.0,>=3.18.0 in ./.venv/lib/python3.10/site-packages (from dataclasses-json<0.7,>=0.5.7->langchain) (3.21.0)\n",
      "Requirement already satisfied: typing-inspect<1,>=0.4.0 in ./.venv/lib/python3.10/site-packages (from dataclasses-json<0.7,>=0.5.7->langchain) (0.9.0)\n",
      "Requirement already satisfied: certifi in ./.venv/lib/python3.10/site-packages (from httpx<1,>=0.23.0->openai) (2024.2.2)\n",
      "Requirement already satisfied: httpcore==1.* in ./.venv/lib/python3.10/site-packages (from httpx<1,>=0.23.0->openai) (1.0.4)\n",
      "Requirement already satisfied: h11<0.15,>=0.13 in ./.venv/lib/python3.10/site-packages (from httpcore==1.*->httpx<1,>=0.23.0->openai) (0.14.0)\n",
      "Requirement already satisfied: jsonpointer>=1.9 in ./.venv/lib/python3.10/site-packages (from jsonpatch<2.0,>=1.33->langchain) (2.4)\n",
      "Requirement already satisfied: packaging<24.0,>=23.2 in ./.venv/lib/python3.10/site-packages (from langchain-core<0.2,>=0.1.26->langchain) (23.2)\n",
      "Requirement already satisfied: orjson<4.0.0,>=3.9.14 in ./.venv/lib/python3.10/site-packages (from langsmith<0.2.0,>=0.1.0->langchain) (3.9.15)\n",
      "Requirement already satisfied: annotated-types>=0.4.0 in ./.venv/lib/python3.10/site-packages (from pydantic<3,>=1->langchain) (0.6.0)\n",
      "Requirement already satisfied: pydantic-core==2.16.3 in ./.venv/lib/python3.10/site-packages (from pydantic<3,>=1->langchain) (2.16.3)\n",
      "Requirement already satisfied: charset-normalizer<4,>=2 in ./.venv/lib/python3.10/site-packages (from requests<3,>=2->langchain) (3.3.2)\n",
      "Requirement already satisfied: urllib3<3,>=1.21.1 in ./.venv/lib/python3.10/site-packages (from requests<3,>=2->langchain) (2.2.1)\n",
      "Requirement already satisfied: greenlet!=0.4.17 in ./.venv/lib/python3.10/site-packages (from SQLAlchemy<3,>=1.4->langchain) (3.0.3)\n",
      "Requirement already satisfied: regex>=2022.1.18 in ./.venv/lib/python3.10/site-packages (from tiktoken<1,>=0.5.2->langchain-openai) (2023.12.25)\n",
      "Requirement already satisfied: mypy-extensions>=0.3.0 in ./.venv/lib/python3.10/site-packages (from typing-inspect<1,>=0.4.0->dataclasses-json<0.7,>=0.5.7->langchain) (1.0.0)\n",
      "Note: you may need to restart the kernel to use updated packages.\n"
     ]
    }
   ],
   "source": [
    "%pip install langchain openai langchain-openai"
   ]
  },
  {
   "cell_type": "code",
   "execution_count": 2,
   "metadata": {},
   "outputs": [],
   "source": [
    "from langchain_openai import OpenAI\n",
    "\n",
    "OPENAI_API_KEY = \"<YOUR_API_KEY>\"\n",
    "llm = OpenAI(openai_api_key=OPENAI_API_KEY, model_name=\"gpt-3.5-turbo-instruct\")"
   ]
  },
  {
   "cell_type": "code",
   "execution_count": 3,
   "metadata": {},
   "outputs": [
    {
     "data": {
      "text/plain": [
       "'<abuelo>: La resiliencia es la capacidad de recuperarse de la adversidad y adaptarse a los cambios. Al igual que un árbol que se dobla con el viento, pero no se quiebra, debemos aprender a ser flexibles en las situaciones difíciles y encontrar la fuerza para seguir adelante. La resiliencia también nos enseña a encontrar oportunidades en medio de los desafíos y a convertir las dificultades en lecciones de vida. Recuerda siempre que eres más fuerte de lo que crees y que puedes superar cualquier obstáculo que se te presente.'"
      ]
     },
     "execution_count": 3,
     "metadata": {},
     "output_type": "execute_result"
    }
   ],
   "source": [
    "prompt = f\"\"\"Su tarea es responder con un estilo coherente. <niño>: Enséñame sobre la paciencia. <abuelo>: El río que talla lo más\n",
    "profundo el valle mana de un modesto manantial; la sinfonía más grandiosa surge de una sola nota; El tapiz más intrincado comienza \n",
    "con un hilo solitario.<niño>: Enséñame sobre la resiliencia.\"\"\"\n",
    "\n",
    "llm.invoke(prompt)"
   ]
  },
  {
   "cell_type": "code",
   "execution_count": 4,
   "metadata": {},
   "outputs": [],
   "source": [
    "def get_answer_chat_openai(prompt: str):\n",
    "    \"\"\"\n",
    "    :params: prompt Texto que recibira el LLM.\n",
    "    :return: str Texto de respuesta del LLM.\n",
    "    \"\"\"\n",
    "    llm = OpenAI(\n",
    "        openai_api_key=OPENAI_API_KEY,\n",
    "        model_name=\"gpt-3.5-turbo-instruct\",\n",
    "        max_tokens=1026\n",
    "        )\n",
    "\n",
    "    return llm.invoke(prompt)"
   ]
  },
  {
   "cell_type": "code",
   "execution_count": 5,
   "metadata": {},
   "outputs": [
    {
     "data": {
      "text/plain": [
       "'\\n\\n¿Qué le dijo una uva verde a una uva morada?\\n\\n¡Respira, respira, que te pones morada!'"
      ]
     },
     "execution_count": 5,
     "metadata": {},
     "output_type": "execute_result"
    }
   ],
   "source": [
    "get_answer_chat_openai(\"Cuéntame un chiste\")"
   ]
  },
  {
   "cell_type": "code",
   "execution_count": 6,
   "metadata": {},
   "outputs": [
    {
     "data": {
      "text/plain": [
       "'\\n\\nTexto: <En un pueblo encantador, los hermanos Jack y Jill emprenden un viaje una búsqueda para buscar agua desde la cima de una colina. Bueno. Mientras subían, cantando alegremente, desgracia golpeado: Jack tropezó con una piedra y cayó colina abajo, con Jill siguiendo su ejemplo. Aunque un poco golpeados, la pareja regresó a casa para abrazos reconfortantes. A pesar del percance, su espíritu aventurero permaneció intacto y Continuó explorando con deleite.>\\nResumen: <Los hermanos Jack y Jill emprenden un viaje en busca de agua en un pueblo encantador, pero sufren un percance que no logra apagar su espíritu aventurero.>\\nTraducción: <Les frères Jack et Jill entreprennent un voyage à la recherche d\\'eau dans un charmant village, mais ils ont un accident qui n\\'éteint pas leur esprit aventureux.>\\nNombres: <Jack, Jill>\\nJSON de salida: <{\"french_summary\": \"Les frères Jack et Jill entreprennent un voyage à la recherche d\\'eau dans un charmant village, mais ils ont un accident qui n\\'éteint pas leur esprit aventureux.\", \"num_names\": 2}>'"
      ]
     },
     "execution_count": 6,
     "metadata": {},
     "output_type": "execute_result"
    }
   ],
   "source": [
    "prompt = f\"\"\"Su tarea es realizar las siguientes acciones:\n",
    "1 - Resume el siguiente texto delimitado por <> con 1 Una frase.\n",
    "2 - Traducir el resumen al francés.\n",
    "3 - Enumere cada nombre en el resumen en francés. \n",
    "4 - Genera un objeto JSON que contiene las siguientes claves: french_summary, num_names. \n",
    "\n",
    "Utilice el siguiente formato: Texto: <texto a resumir> Resumen: <resumen> Traducción: <traducción resumida>\n",
    "Nombres: <lista de nombres en resumen> JSON de salida: <json con resumen y num_names>.\n",
    "<En un pueblo encantador, los hermanos Jack y Jill emprenden un viaje una búsqueda para buscar agua desde la cima de una colina.\n",
    "Bueno. Mientras subían, cantando alegremente, desgracia golpeado: Jack tropezó con una piedra y cayó colina abajo, con Jill\n",
    "siguiendo su ejemplo. Aunque un poco golpeados, la pareja regresó a casa para abrazos reconfortantes. A pesar del percance,\n",
    "su espíritu aventurero permaneció intacto y Continuó explorando con deleite.>\"\"\"\n",
    "\n",
    "get_answer_chat_openai(prompt)"
   ]
  },
  {
   "cell_type": "code",
   "execution_count": 7,
   "metadata": {},
   "outputs": [
    {
     "data": {
      "text/plain": [
       "\"\\nSELECT Estudiantes.NombreEstudiante\\nFROM Departamentos\\nINNER JOIN Estudiantes ON Departamentos.DepartamentoId = Estudiantes.DepartamentoId\\nWHERE Departamentos.NombreDepartamento = 'Informática'\""
      ]
     },
     "execution_count": 7,
     "metadata": {},
     "output_type": "execute_result"
    }
   ],
   "source": [
    "prompt = f\"\"\"Serás un experto en construcción de querys SQL. Te daré la informmacion de mi esquema entre `````` y con el formato:\n",
    "Table Table_Name, columns = [col1, col2, ..., coln], donde Table_name es el nombre de la tabla y col1, col2, ..., coln serán el\n",
    "nombre de las columnas en esta tabla. Deben crear una consulta SQL para todos los estudiantes del Departamento de Informática.\n",
    "Como respuesta final dame solo el query SQL.\n",
    "```Table Departamentos, columns = [DepartamentoId, NombreDepartamento]\n",
    "   Table Estudiantes, columns   = [DepartamentoId, EstudianteId, NombreEstudiante]```\n",
    "\"\"\"\n",
    "\n",
    "get_answer_chat_openai(prompt)"
   ]
  },
  {
   "cell_type": "markdown",
   "metadata": {},
   "source": [
    "### ***Resumen de páginas Web***\n",
    "\n",
    "En el mundo del procesamiento del lenguaje natural, la capacidad de extraer información clave de grandes cantidades de texto es invaluable. La función `summary_web_page` es un ejemplo perfecto de cómo LangChain se puede utilizar para construir aplicaciones de lenguaje natural que simplifican y automatizan esta tarea. Esta función toma la URL de una página web y, mediante la interacción con un modelo de lenguaje avanzado, genera un resumen conciso en español. Es un claro reflejo de la potencia de LangChain, que permite a los desarrolladores crear soluciones sofisticadas con relativa facilidad, combinando la accesibilidad de los modelos de lenguaje pre-entrenados con la flexibilidad de Python para el manejo y procesamiento de datos. Con summary_web_page, demostramos cómo se puede transformar el contenido web en resúmenes útiles, proporcionando un vistazo a las posibilidades expansivas que LangChain ofrece para la creación de aplicaciones de NLP."
   ]
  },
  {
   "cell_type": "code",
   "execution_count": 8,
   "metadata": {},
   "outputs": [
    {
     "name": "stdout",
     "output_type": "stream",
     "text": [
      "Requirement already satisfied: beautifulsoup4 in ./.venv/lib/python3.10/site-packages (4.12.3)\n",
      "Requirement already satisfied: soupsieve>1.2 in ./.venv/lib/python3.10/site-packages (from beautifulsoup4) (2.5)\n"
     ]
    }
   ],
   "source": [
    "!pip install beautifulsoup4"
   ]
  },
  {
   "cell_type": "code",
   "execution_count": 9,
   "metadata": {},
   "outputs": [
    {
     "data": {
      "text/plain": [
       "{'input_documents': [Document(page_content='\\n\\n\\n\\nMiguel Ángel López (ciclista) - Wikipedia, la enciclopedia libre\\n\\n\\n\\n\\n\\n\\n\\n\\n\\n\\n\\n\\n\\n\\n\\n\\n\\n\\n\\n\\n\\n\\n\\n\\n\\n\\n\\n\\n\\n\\n\\n\\n\\n\\n\\n\\n\\n\\nIr al contenido\\n\\n\\n\\n\\n\\n\\n\\nMenú principal\\n\\n\\n\\n\\n\\nMenú principal\\nmover a la barra lateral\\nocultar\\n\\n\\n\\n\\t\\tNavegación\\n\\t\\n\\n\\nPortadaPortal de la comunidadActualidadCambios recientesPáginas nuevasPágina aleatoriaAyudaDonacionesNotificar un error\\n\\n\\n\\n\\n\\nIdiomas\\n\\nLos enlaces de idiomas se encuentran en la parte superior de la página, frente al título.\\n\\n\\n\\n\\n\\n\\n\\n\\n\\n\\n\\n\\n\\n\\n\\n\\n\\n\\n\\nBuscar\\n\\n\\n\\n\\n\\n\\n\\n\\n\\n\\n\\nBuscar\\n\\n\\n\\n\\n\\n\\n\\n\\n\\n\\n\\n\\n\\n\\n\\n\\n\\n\\n\\n\\n\\n\\n\\n\\n\\n\\n\\n\\n\\nCrear una cuenta\\n\\nAcceder\\n\\n\\n\\n\\n\\n\\n\\n\\nHerramientas personales\\n\\n\\n\\n\\n\\n Crear una cuenta Acceder\\n\\n\\n\\n\\n\\n\\t\\tPáginas para editores desconectados más información\\n\\n\\n\\nContribucionesDiscusión\\n\\n\\n\\n\\n\\n\\n\\n\\n\\n\\n\\n\\n\\n\\n\\n\\n\\n\\n\\n\\n\\n\\n\\n\\n\\n\\n\\n\\nContenidos\\nmover a la barra lateral\\nocultar\\n\\n\\n\\n\\nInicio\\n\\n\\n\\n\\n\\n1Biografía\\n\\n\\n\\nAlternar subsección Biografía\\n\\n\\n\\n\\n\\n1.12014\\n\\n\\n\\n\\n\\n\\n\\n1.22015\\n\\n\\n\\n\\n\\n\\n\\n1.32016\\n\\n\\n\\n\\n\\n\\n\\n1.42017\\n\\n\\n\\n\\n\\n\\n\\n1.52018\\n\\n\\n\\n\\n\\n\\n\\n1.62023\\n\\n\\n\\n\\n\\n\\n\\n\\n\\n2Palmarés\\n\\n\\n\\n\\n\\n\\n\\n3Resultados\\n\\n\\n\\nAlternar subsección Resultados\\n\\n\\n\\n\\n\\n3.1Grandes Vueltas\\n\\n\\n\\n\\n\\n\\n\\n3.2Vueltas menores\\n\\n\\n\\n\\n\\n\\n\\n3.3Clásicas y Campeonatos\\n\\n\\n\\n\\n\\n\\n\\n\\n\\n4Equipos\\n\\n\\n\\n\\n\\n\\n\\n5Notas y referencias\\n\\n\\n\\n\\n\\n\\n\\n6Enlaces externos\\n\\n\\n\\n\\n\\n\\n\\n\\n\\n\\n\\n\\n\\n\\n\\n\\n\\nCambiar a la tabla de contenidos\\n\\n\\n\\n\\n\\n\\n\\nMiguel Ángel López (ciclista)\\n\\n\\n\\n25 idiomas\\n\\n\\n\\n\\nالعربيةمصرىCatalàČeštinaDanskDeutschEnglishEuskaraSuomiFrançaisעבריתMagyarItaliano日本語LatviešuМакедонскиNederlandsNorsk bokmålPolskiPortuguêsRomânăРусскийСрпски / srpskiTürkçeУкраїнська\\n\\nEditar enlaces\\n\\n\\n\\n\\n\\n\\n\\n\\n\\n\\n\\nArtículoDiscusión\\n\\n\\n\\n\\n\\nespañol\\n\\n\\n\\n\\n\\n\\n\\n\\n\\n\\n\\n\\n\\n\\n\\n\\n\\nLeerEditarVer historial\\n\\n\\n\\n\\n\\n\\n\\nHerramientas\\n\\n\\n\\n\\n\\nHerramientas\\nmover a la barra lateral\\nocultar\\n\\n\\n\\n\\t\\tAcciones\\n\\t\\n\\n\\nLeerEditarVer historial\\n\\n\\n\\n\\n\\n\\t\\tGeneral\\n\\t\\n\\n\\nLo que enlaza aquíCambios en enlazadasSubir archivoPáginas especialesEnlace permanenteInformación de la páginaCitar esta páginaObtener URL acortadoDescargar código QRElemento de Wikidata\\n\\n\\n\\n\\n\\n\\t\\tImprimir/exportar\\n\\t\\n\\n\\nCrear un libroDescargar como PDFVersión para imprimir\\n\\n\\n\\n\\n\\n\\t\\tEn otros proyectos\\n\\t\\n\\n\\nWikimedia Commons\\n\\n\\n\\n\\n\\n\\n\\n\\n\\n\\n\\n\\n\\n\\n\\n\\n\\n\\n\\n\\n\\n\\n\\n\\n\\nDe Wikipedia, la enciclopedia libre\\n\\n\\nMiguel Ángel López\\nDatos personalesNombre\\xa0completo\\nMiguel Ángel López MorenoApodo(s)\\nSupermán[1]\\u200bNacimiento\\nPesca, Colombia4 de febrero de 1994 (30\\xa0años)Altura\\n1,64 m (5′ 5″)Peso\\n59\\xa0kg (130\\xa0lb)Carrera deportivaRepresentante de\\nColombia\\xa0ColombiaDeporte\\nCiclismoDisciplina\\nRutaTipo\\nEscaladorEquipo\\nTeam Medellín-EPMTrayectoria\\n\\nEquipos amateur\\n\\n2014\\n  \\nIndeportes–Lotería de Boyacá\\n\\nEquipos profesionales\\n\\n2015-2020202120222023-\\n  \\nAstana Pro TeamMovistar TeamAstana Qazaqstan TeamTeam Medellín-EPM\\n\\n\\n\\n\\xa0\\xa0\\xa0\\xa0\\xa0\\xa0\\xa0\\xa0\\xa0\\xa0\\xa0\\xa0\\xa0\\xa0Títulos\\n\\n\\n\\n\\nGV - Maillots complementarios y etapas:\\n– Giro de Italia:\\nClasificación de los jóvenes  (2018 y 2019)\\n– Tour de Francia:\\n1 etapa\\n– Vuelta a España:\\nPremio de los jóvenes  (2017)Premio de la combatividad  (2019)3 etapas\\nClásicas:\\nMilán-Turín (2016)\\nVueltas menores:\\nVuelta a Suiza  (2016)\\nVolta a Cataluña  (2019)\\nCampeonatos nacionales:\\nCampeonato de Colombia Contrarreloj   (2023)\\n\\n\\n\\n[editar datos en Wikidata]\\nMiguel Ángel López Moreno (Pesca, Boyacá, 4 de febrero de 1994) es un ciclista profesional colombiano que corre para el equipo colombiano Team Medellín-EPM de categoría Continental.\\nLópez se inició en el ciclismo de ruta tardíamente, ya en plena adolescencia; emprendiendo una meteórica carrera en categoría juvenil y sub-23 que lo llevó a ganar a los 20 años el Tour del Porvenir sin tener ninguna experiencia previa en Europa. Tras este triunfo que evidenciaba su talento el equipo Astana lo fichó a partir de 2015. Entre las temporadas 2015 y 2017 con el Astana, ha logrado algunos triunfos de importancia como la Vuelta Suiza y la Milán-Turín en 2016 y dos etapas en la Vuelta a España en 2017: todo ello a pesar de varias caídas y lesiones que han marcado su carrera y limitado su progresión desde el inicio de su carrera profesional. La primera gran vuelta en la que participó fue en la Vuelta a España de 2016, la que debió abandonar por caída. Por su buen desempeño en La Vuelta 2017, que logró terminar, y la marcha inesperada del líder del equipo Fabio Aru fue designado para correr como jefes de filas el Giro de Italia y la Vuelta a España para la temporada 2018. En el Giro logró subir al podio en tercer lugar por detrás de Chris Froome y Tom Dumoulin y adjudicarse la clasificación de mejor joven. El 16 de septiembre de 2020 se hizo con la victoria en la etapa del Tour de Francia con final en Col de la Loze, reafirmándose en el tercer puesto de la clasificación general.\\n\\n\\nBiografía[editar]\\nLópez es el cuarto de siete hermanos de una familia campesina residente en la localidad de Pesca ubicada por encima de los 2600 m s. n. m., en el departamento de Boyacá, cuna de grandes exponentes del ciclismo colombiano.[1]\\u200b Su primer contacto con la bicicleta fue tardío; a los 15 años empezó a usarla ante la necesidad de asistir a sus estudios. Una vez concluida su educación secundaria empezó a practicar ciclomontañismo, pero poco tiempo; después empezó a practicar ciclismo de ruta participando en competencias locales cuando fue descubierto por el exciclista de ruta colombiano Rafael Acevedo, que compitió en su país y Europa en la década de 1990, quien convencido de sus condiciones fue el artífice de su formación.[2]\\u200b Inició su trayectoria en ruta como juvenil participando en las ediciones de 2011 y 2012 de la Vuelta del Porvenir carrera para juveniles en Colombia, precisamente en esta última edición inició la racha de caídas y lesiones que han limitado su progresión, al fracturarse la muñeca tras una caída. En 2013 vuelve a tener una accidente días antes de competir en la Vuelta de la Juventud de categoría Sub-23 clasificándose a pesar de ello en cuarta posición.[3]\\u200b Siendo aquejado también toda la temporada por una lesión de los ligamentos de la rodilla derecha que lo hizo pensar incluso en abandonar el ciclismo.[4]\\u200b López es apodado \"Supermán\", no por sus condiciones físicas como pudiera pensarse, sino por defenderse e impedir el robo de su bicicleta ante dos ladrones que lo apuñalaron en una pierna en su época de juvenil.[1]\\u200b\\n\\n2014[editar]\\nLópez en el podio de la Vuelta de la Juventud 2014.\\nSu desempeño en esta temporada no tuvo percances, le significo un salto de calidad y fue la que lo catapultó al profesionalismo. Participó en el Campeonato de Colombia de Ciclismo Contrarreloj con un cuarto lugar, posteriormente con el equipo amateur Indeportes Lotería de Boyacá ganó la competencias Sub-23 Clásica de Samacá más 2 etapas y la Vuelta de la Juventud en el mes de junio.[5]\\u200b[6]\\u200b Pero fue en agosto en donde logró el primer gran triunfo de su carrera con su victoria en la general del Tour del Porvenir, ganando además la etapa Reina y la clasificación de la montaña; esto con 20 años de edad y sin ninguna experiencia competitiva en Europa.[7]\\u200b Tras este triunfo, el equipo Astana se apresuró a hacerse con sus servicios y en septiembre oficializó su contrato por dos temporadas.[8]\\u200b[9]\\u200b Su última carrera como amateur fue la Vuelta a Boyacá donde ocupó la tercera posición en la clasificación general y fue mejor sub-23.[10]\\u200b\\n\\n2015[editar]\\nEn su primera temporada en el World Tour empezó compitiendo en el campeonato nacional de ruta de Colombia, quedando en octavo lugar. Luego se trasladó a Europa donde se participó en la Volta a Cataluña que no logró terminar tras una inadecuada preparación que le ocasionó sobrecarga y problemas de rodilla.[2]\\u200b Tras ese traspiés y una vez recuperado tuvo algunas actuaciones notables, como en el Tour de Turquía, con una segunda posición en la sexta etapa,[11]\\u200b y en la Vuelta Suiza en la que ocupó una cuarta posición en la etapa reina con llegada al Solden, arribando casi a la par de algunos de los mejores escaladores del WorlTour, y un séptimo lugar en la clasificación general.[12]\\u200b En agosto, consiguió su primer triunfo como ciclista WorldTour en la cuarta etapa, con llegada en alto, de la Vuelta a Burgos; allí vistió la camiseta de líder que perdió al día siguiente al descolgarse en la llegada a las Lagunas de Neila, aun así quedó cuarto en la clasificación general y se hizo a la clasificación del mejor joven.[13]\\u200b Finalizó la temporada luego de competir en el Mundial de Ciclismo en Ruta y clásicas como la Milán-Turín y Lombardía aquejado nuevamente por problemas de rodilla que no le permitieron destacarse.[2]\\u200b\\n\\n2016[editar]\\nLópez en el podio de la Vuelta a Suiza 2016.\\nInició la temporada en el mes de enero en el Tour de San Luis, ganando la etapa reina, ocupando así el cuarto (4°) puesto en la general y el primero en la clasificación Sub-23.[14]\\u200b En marzo estuvo a punto de ganar el Tour de Langkawi privándolo de ello un inoportuno pinchazo en la sexta etapa a la que llegó como líder luego de ganar la cuarta etapa.[4]\\u200b En marzo y abril compitió en la Volta a Cataluña, al País Vasco y Romandía con discretas actuaciones. Su primer triunfo en la categoría UCI WorldTour fue la victoria en la clasificación general de la Vuelta a Suiza, tras destacarse en las etapas de montaña con un segundo lugar en la etapa reina con llegada al Solden y una gran actuación en la penúltima etapa, una contrarreloj individual en terreno quebrado, en la que también fue segundo y lo catapultó al liderato que defendió con éxito en la última jornada.[15]\\u200b Este resultado llevó al equipo Astana a renovar su contrato por otros dos años y llevarlo a la Vuelta a España de ese año.[16]\\u200b\\nFue alineado por su equipo para la Vuelta a España en agosto, pero su esperado debut se vio frustrado durante la tercera etapa donde sufrió una fuerte caída que le provocó un traumatismo facial y la pérdida de varias piezas dentales. En la etapa 6, se vio obligado a abandonar debido a una nueva caída y la imposibilidad de alimentarse adecuadamente.[17]\\u200b Para el mes siguiente consiguió recuperarse participando en varias carreras, incluyendo las clásicas de otoño donde cumplió funciones de gregario . Sin embargo, consiguió en parte compensar el sinsabor en la Vuelta a España con un triunfo de prestigio en la Milán-Turín tras un ataque a cinco kilómetros de meta y encarar el ascenso final.[18]\\u200b En el mes de noviembre, durante un entrenamiento en Colombia, sufrió una caída que le causó una grave fractura de tibia que le alejaría finalmente de las carreteras por más de seis meses.[19]\\u200b\\n\\n2017[editar]\\nPara esta temporada, y tras la intempestiva marcha de Fabio Aru al UAE Team Emirates, su equipo pensó en llevarlo al Tour de Francia 2017 una vez se recuperase de su lesión.[20]\\u200b Con este objetivo llegó a defender su título del año anterior en la Vuelta a Suiza yendo de menos más durante la competencia, cuando una violenta caída le obligó a retirarse, una más en el ya numerosas caídas, lesiones e incidentes durante su carrera. Como consecuencia de esta caída sufrió lesiones en el rostro y una fractura en el pulgar de la mano derecha.[21]\\u200b[3]\\u200b A estas alturas ya había sido descartado para participar en el Tour de Francia de ese año, como su equipo lo había planeado, a causa de la tardía recuperación de su lesión de tibia; sin embargo, tras la caída en Suiza fue capaz de recuperarse una vez más para tomar parte de la Vuelta a España. Días antes del inicio de La Vuelta consiguió ganar la etapa reina con llegada en las Lagunas de Neila en la Vuelta a Burgos[22]\\u200b La misión de López en esta competencia consistía en completar su primer gran vuelta y servir de apoyo en la montaña al italiano Fabio Aru. Tras perder tiempo en las primeras etapas empezó a mostrarse muy fuerte en la montaña logrando ganar dos etapas con llegada en Calar Alto y Sierra Nevada,[23]\\u200b superando a rivales de la talla de Nibali, Zakarin y Froome. Al final terminó 8° en la Clasificación General, ganando de paso el reconocimiento del periódico As de España al mejor joven de la Vuelta.[24]\\u200b\\n\\n2018[editar]\\nMiguel Ángel López con Rodolfo Torres en Boyacá, Colombia, enero de 2018.\\nTras la buena actuación en La Vuelta 2017 el equipo decidió dar por terminada la temporada, no sin antes anunciar que acudiría con López como jefe de filas al Giro de Italia y la Vuelta a España.[25]\\u200b Con este objetivo inició la temporada participando en los campeonatos nacionales de ciclismo en su país en la modalidad de contrarreloj y ruta; posteriormente compitió en el Tour de Omán, donde consiguió ganar una etapa, la clasificación de los jóvenes y la segunda posición en la clasificación general,[26]\\u200b y en el Tour de Abu Dhabi donde subió al podio en tercera posición y ganó la clasificación del mejor joven.[27]\\u200b Siguiendo la preparación de cara al Giro participó en la Tirreno-Adriático y luego en el Tour de los Alpes, donde ganó una etapa y el tercer puesto de la clasificación general.[28]\\u200b\\nComo estaba previsto se presentó al Giro de Italia 2018 como líder de una potente escuadra con ciclistas muy experimentados como Luis León Sánchez y Tanel Kangert. Sin embargo su inicio no fue el más afortunado al sufrir una caída durante el reconocimiento del recorrido de la primera etapa, una crono de 9,7 km en las calles de Jerusalén y otra caída durante la quinta etapa, percances que lo distanciaron a varios minutos en la clasificación general.[29]\\u200b[30]\\u200b Sin embargo, a lo largo de la competencia su desempeño fue regular, y aunque no logró imponerse en ninguna etapa, al finalizar la carrera en Roma logró subir al podio en el tercer cajón y ganar la clasificación del mejor joven.[31]\\u200b\\n\\n2023[editar]\\nFue víctima durante unas horas de un secuestro con robo en septiembre de 2023.[32]\\u200b\\n\\nPalmarés[editar]\\n\\n\\n\\n2014\\n\\nVuelta de la Juventud de Colombia, más 1 etapa\\nTour del Porvenir, más 1 etapa\\n2015\\n\\n1 etapa de la Vuelta a Burgos\\n2016\\n\\n1 etapa del Tour de San Luis\\n1 etapa del Tour de Langkawi\\nVuelta a Suiza\\nMilán-Turín\\n2017\\n\\n1 etapa de la Vuelta a Austria\\n1 etapa de la Vuelta a Burgos\\n2 etapas de la Vuelta a España, más premio de los jóvenes \\n2018\\n\\n1 etapa del Tour de Omán\\n1 etapa del Tour de los Alpes\\n3.º en el Giro de Italia, más clasificación de los jóvenes \\n1 etapa de la Vuelta a Burgos\\n3.º en la Vuelta a España\\n2019\\n\\n2.º en el Campeonato de Colombia Contrarreloj \\nTour Colombia\\nVolta a Cataluña, más 1 etapa\\nClasificación de los jóvenes del Giro de Italia \\nPremio de la combatividad de la Vuelta a España \\n\\n\\n2020\\n\\n1 etapa de la Vuelta al Algarve\\n1 etapa del Tour de Francia\\n2021\\n\\nVuelta a Andalucía, más 1 etapa\\nMont Ventoux Dénivelé Challenge\\n1 etapa de la Vuelta a España\\n2022\\n\\n1 etapa del Tour de los Alpes\\n2023\\n\\nVuelta a San Juan, más 1 etapa\\nCampeonato de Colombia Contrarreloj  \\n2 etapas de la Vuelta Bantrab\\n2.º en el Campeonato Panamericano Contrarreloj \\n1 etapa del Tour de Gila\\nTour de Catamarca Internacional, más 1 etapa\\n1 etapa del Joe Martin Stage Race\\nVuelta a Colombia, más 9 etapas\\nJuegos Centroamericanos y del Caribe Contrarreloj \\n2.º en los Juegos Centroamericanos y del Caribe en Ruta \\n\\nResultados[editar]\\nGrandes Vueltas[editar]\\n\\n\\nCarrera\\n2015\\n2016\\n2017\\n2018\\n2019\\n2020\\n2021\\n2022\\n2023\\n\\n\\n\\n\\nGiro de Italia\\n\\n—\\n\\n—\\n\\n—\\n\\n3.º\\n\\n7.º\\n\\nAb.\\n\\n—\\n\\nAb.\\n\\n—\\n\\n\\n\\n\\nTour de Francia\\n\\n—\\n\\n—\\n\\n—\\n\\n—\\n\\n—\\n\\n6.º\\n\\nAb.\\n\\n—\\n\\n—\\n\\n\\n\\n\\nVuelta a España\\n\\n—\\n\\nAb.\\n\\n8.º\\n\\n3.º\\n\\n5.º\\n\\n—\\n\\nAb.\\n\\n4.º\\n\\n—\\n\\nVueltas menores[editar]\\n\\n\\nCarrera\\n2015\\n2016\\n2017\\n2018\\n2019\\n2020\\n2021\\n2022\\n\\n\\n\\n\\nParís-Niza\\n\\n—\\n\\n—\\n\\n—\\n\\n—\\n\\n28.º\\n\\n—\\n\\n—\\n\\n—\\n\\n\\n\\n\\nTirreno-Adriático\\n\\n—\\n\\n—\\n\\n—\\n\\n16.º\\n\\n—\\n\\n—\\n\\n—\\n\\n21.º\\n\\n\\n\\n\\nVolta a Cataluña\\n\\nAb.\\n\\n42.º\\n\\n—\\n\\n—\\n\\n1.º\\n\\nX\\n\\n—\\n\\n—\\n\\n\\n\\n\\nVuelta al País Vasco\\n\\n—\\n\\n20.º\\n\\n—\\n\\n—\\n\\n—\\n\\nX\\n\\n—\\n\\n—\\n\\n\\n\\n\\nTour de Romandía\\n\\n—\\n\\nAb.\\n\\n—\\n\\n—\\n\\n—\\n\\nX\\n\\n—\\n\\n—\\n\\n\\n\\n\\nCritérium del Dauphiné\\n\\n—\\n\\n—\\n\\n—\\n\\n—\\n\\n—\\n\\n5.º\\n\\n6.º\\n\\n—\\n\\n\\n\\n\\nVuelta a Suiza\\n\\n7.º\\n\\n1.º\\n\\nAb.\\n\\n—\\n\\n—\\n\\nX\\n\\n—\\n\\n—\\n\\n\\n\\n\\nTour de Polonia\\n\\n—\\n\\n—\\n\\n—\\n\\n—\\n\\n40.º\\n\\n—\\n\\n—\\n\\n—\\n\\nClásicas y Campeonatos[editar]\\n\\n\\nCarrera\\n2015\\n2016\\n2017\\n2018\\n2019\\n2020\\n2021\\n2022\\n2023\\n\\n\\nStrade Bianche\\n\\n—\\n\\n—\\n\\n—\\n\\n—\\n\\n—\\n\\n—\\n\\n—\\n\\nAb.\\n\\n\\nClásica San Sebastián\\n\\n96.º\\n\\n—\\n\\n—\\n\\n96.º\\n\\n—\\n\\nX\\n\\n—\\n\\n—\\n\\n\\n\\n\\nGiro de Lombardía\\n\\nAb.\\n\\nAb.\\n\\n—\\n\\n—\\n\\n—\\n\\n—\\n\\n—\\n\\n—\\n\\n\\n JJ.OO. (Ruta)\\n\\nND\\n\\nAb.\\n\\nNo se disputó\\n\\n—\\n\\nND\\n\\n\\n Mundial en Ruta\\n\\nAb.\\n\\n—\\n\\n—\\n\\nAb.\\n\\n—\\n\\n41.º\\n\\n—\\n\\n—\\n\\n\\n Colombia en Ruta\\n\\n8.º\\n\\n—\\n\\n—\\n\\n16.º\\n\\n32.º\\n\\n—\\n\\n—\\n\\n—\\n\\n17.º\\n\\n\\n Colombia en Contrarreloj\\n\\n—\\n\\n4.º\\n\\n—\\n\\n8.º\\n\\n2.º\\n\\n—\\n\\n—\\n\\n—\\n\\n1.°\\n\\n—: No participa\\nAb.: Abandona\\nX: No se disputó\\n\\nEquipos[editar]\\n Indeportes–Lotería de Boyacá (2014)\\n Astana Pro Team (2015-2020)\\n Movistar Team[33]\\u200b (2021)\\n Astana Qazaqstan Team (2022)\\n Team Medellín-EPM (2023-)\\nNotas y referencias[editar]\\n\\n↑ a b c «Padres del campeón del Tour l\\'Avenir narraron porque lo llaman “Supermán\"». caracol.com.co. Caracol Radio. 30 de agosto de 2014.\\xa0\\n\\n↑ a b c Victor Gavito (12 2015). «Entrevista con Miguel Ángel López». Road&Mud.\\xa0\\n\\n↑ a b William Perilla (8 de septiembre de 2017). «\"La carrera de \\'Superman\\' López ha sido todo un calvario\"». colombia.as.com.\\xa0\\n\\n↑ a b Lisandro Rengifo (22 de junio de 2016). «Miguel Ángel López, el \\'Supermán\\' del caballito de acero». El Tiempo.\\xa0\\n\\n↑ «1ª Clásica de Ciclismo Samacá, Boyacá». nuestrociclismo.com. junio de 2014.\\xa0\\n\\n↑ «Miguel Ángel López, el ‘Superman’ boyacense, campeón de la Vuelta a la Juventud 2014». Gobernación de Boyacá. junio de 2014. Archivado desde el original el 13 de mayo de 2018. Consultado el 12 de mayo de 2018.\\xa0\\n\\n↑ «El colombiano Miguel Ángel López gana el Tour del Porvenir». Marca. 30 de agosto de 2014.\\xa0\\n\\n↑ «Astana confirma el fichaje del colombiano Miguel Ángel López». Biciciclismo. 11 de septiembre de 2014.\\xa0\\n\\n↑ Fran Reyes (23 de marzo de 2016). «El ciclista que quería ser torero». El Español.\\xa0\\n\\n↑ «36 Vuelta a Boyacá 2014». Clasificaciones del Ciclismo Colombiano. septiembre de 2014.\\xa0\\n\\n↑ «Miguel Ángel López, segundo en la sexta etapa de la Vuelta a Turquía». EFE. 1 de mayo de 2015.\\xa0\\n\\n↑ «Colombiano Miguel López es quinto en la Vuelta a Suiza». El Tiempo. 17 de junio de 2015.\\xa0\\n\\n↑ «López remata la superioridad de Astana en un final de altura» (en espanol). EITB. 7 de agosto de 2015.\\xa0\\n\\n↑ «Superman ganó etapa reina y Dayer es nuevo líder en San Luis». El Colombiano. Colprensa. 23 de enero de 2016.\\xa0\\n\\n↑ «Miguel Ángel López, campeón del Tour de Suiza». El Espectador. 19 de junio de 2016.\\xa0\\n\\n↑ «El Astana renueva a \\'Superman\\' López». Marca. 20 de junio de 2016.\\xa0\\n\\n↑ «Miguel Ángel López se retiró de la Vuelta a España». www.elcolombiano.com. Consultado el 14 de marzo de 2017.\\xa0\\n\\n↑ «Miguel Ángel López se impone en la Milán-Turín 2016». esciclismo.com. EFE. 28 de septiembre de 2016.\\xa0\\n\\n↑ «Cuatro meses de incapacidad para Miguel Ángel López por fractura de tibia». El Espectador. 4 de noviembre de 2016. Consultado el 14 de marzo de 2017.\\xa0\\n\\n↑ «El Astana se la jugará con Supermán López en 2018». El Colombiano. 10 de noviembre dec2016.\\xa0\\n\\n↑ «Vuelta a Suiza: Caída de Miguel Ángel López lo deja con fractura en dedo pulgar mano derecha, pérdida de tres dientes y puntos de sutura en la frente y labio superior». Revista Mundo Ciclístico. 14 de junio de 2017.\\xa0\\n\\n↑ «Miguel Ángel \\'Superman\\' López volvió a volar con una victoria». Revista Semana. 5 de agosto de 2017.\\xa0\\n\\n↑ Alasdair Fotheringham (3 de septiembre de 2017). «Lopez secures second mountaintop win at Vuelta a Espana» (en inglés). Cycling News.\\xa0\\n\\n↑ «López: \"Estoy feliz de ser el mejor joven, gran iniciativa\"». as.com. 10 de septiembre de 2017.\\xa0\\n\\n↑ Xabier Videla (10 de diciembre de 2017). «El Tour deberá esperar para ‘Superman’ López: “La idea es hacer una buena general en Giro y Vuelta”».\\xa0\\n\\n↑ «Miguel Ángel López corona la \\'Montaña Verde\\' del Tour de Omán». Marca. 17 de febrero de 2017.\\xa0\\n\\n↑ «Miguel Ángel López se subió al podio de la Vuelta a Abu Dabi». El Colombiano. 25 de febrero de 2018.\\xa0\\n\\n↑ «Miguel Ángel López terminó en el podio del Tour de los Alpes». Revista Semana. 20 de abril de 2018.\\xa0\\n\\n↑ «Giro de Italia. “Miguel Ángel López se estrelló en una esquina y está bien”: Dmitri Sedoun». Revista Mundo Ciclístico. 4 de mayo de 2018.\\xa0\\n\\n↑ «Miguel Ángel López sufrió una caída y cedió terreno en el Giro de Italia». 9 de mayo de 2018.\\xa0\\n\\n↑ «Miguel Ángel López se subió al podio en su primer Giro de Italia». El Espectador. 17 de mayo de 2018.\\xa0\\n\\n↑ «Miguel Ángel López sale ileso de un secuestro con robo en Colombia». okdiario.com. 23 de septiembre de 2023. Consultado el 23 de septiembre de 2023.\\xa0\\n\\n↑ «Perfíl de Miguel Ángel López en Movistar Team». Movistar Team. Consultado el 1 de enero de 2021.\\xa0\\n\\n\\nEnlaces externos[editar]\\n\\n Wikimedia Commons alberga una categoría multimedia sobre Miguel Ángel López.\\nMiguel Ángel López (ciclista) – ProCyclingStats\\nFicha en el sitiodeciclismo.net.\\n\\nMiguel Ángel López en X (antes Twitter)\\n\\nMiguel Ángel López en Instagram \\n\\nMiguel Ángel López en Facebook\\nControl de autoridades\\nProyectos Wikimedia\\n Datos: Q17711593\\n Multimedia: Miguel Ángel López (cyclist) / Q17711593\\n\\nDeportistas\\nCOI: miguel-angel-lopez-moreno\\n\\n Datos: Q17711593\\n Multimedia: Miguel Ángel López (cyclist) / Q17711593\\n\\n\\n\\n\\n\\nObtenido de «https://es.wikipedia.org/w/index.php?title=Miguel_Ángel_López_(ciclista)&oldid=156356950»\\nCategorías: HombresNacidos en 1994Nacidos en PescaCiclistas de ColombiaCiclistas del Movistar TeamCiclistas de Colombia en los Juegos Olímpicos de Río de Janeiro 2016Ganadores de la Vuelta a SuizaGanadores de etapa en la Vuelta a EspañaColombianos ganadores de etapa en la Vuelta a EspañaGanadores de etapa en el Tour de FranciaColombianos ganadores de etapa en el Tour de FranciaCategorías ocultas: Wikipedia:Mantenimiento de la plantilla Altura (metro)Personas vivas\\n\\n\\n\\n\\n\\n\\n Esta página se editó por última vez el 26 dic 2023 a las 18:48.\\nEl texto está disponible bajo la Licencia Creative Commons Atribución-CompartirIgual 4.0; pueden aplicarse cláusulas adicionales. Al usar este sitio aceptas nuestros términos de uso y nuestra política de privacidad.Wikipedia® es una marca registrada de la Fundación Wikimedia, una organización sin ánimo de lucro.\\n\\n\\nPolítica de privacidad\\nAcerca de Wikipedia\\nLimitación de responsabilidad\\nCódigo de conducta\\nDesarrolladores\\nEstadísticas\\nDeclaración de cookies\\nVersión para móviles\\n\\n\\n\\n\\n\\n\\n\\n\\n\\n\\n\\n\\n\\nActivar o desactivar el límite de anchura del contenido\\n\\n\\n\\n\\n\\n\\n\\n', metadata={'source': 'https://es.wikipedia.org/wiki/Miguel_%C3%81ngel_L%C3%B3pez_(ciclista)', 'title': 'Miguel Ángel López (ciclista) - Wikipedia, la enciclopedia libre', 'language': 'es'})],\n",
       " 'output_text': 'Miguel Ángel López Moreno is a professional Colombian cyclist who currently rides for Team Medellín-EPM. He began his career in the sport late, but quickly rose to success, winning the Tour del Porvenir at the age of 20. He has competed in major races such as the Giro d\\'Italia, Tour de France, and Vuelta a España, achieving notable victories and podium finishes. López has faced numerous injuries throughout his career, but has continued to excel in the sport, earning the nickname \"Supermán\" for his resilience and determination.'}"
      ]
     },
     "execution_count": 9,
     "metadata": {},
     "output_type": "execute_result"
    }
   ],
   "source": [
    "from langchain.chains.combine_documents.stuff import StuffDocumentsChain\n",
    "from langchain_community.document_loaders import WebBaseLoader\n",
    "from langchain.chains.llm import LLMChain\n",
    "from langchain.prompts import PromptTemplate\n",
    "from langchain_openai import ChatOpenAI\n",
    "\n",
    "loader = WebBaseLoader(\"https://es.wikipedia.org/wiki/Miguel_%C3%81ngel_L%C3%B3pez_(ciclista)\")\n",
    "docs = loader.load()\n",
    "prompt_template = \"\"\"Write a concise summary of the following:\n",
    "\"{text}\"\n",
    "CONCISE SUMMARY:\"\"\"\n",
    "prompt = PromptTemplate.from_template(prompt_template)\n",
    "\n",
    "llm = ChatOpenAI(temperature=0, model_name=\"gpt-3.5-turbo-1106\", openai_api_key=OPENAI_API_KEY)\n",
    "llm_chain = LLMChain(llm=llm, prompt=prompt)\n",
    "\n",
    "stuff_chain = StuffDocumentsChain(llm_chain=llm_chain, document_variable_name=\"text\")\n",
    "\n",
    "stuff_chain.invoke(docs)"
   ]
  },
  {
   "cell_type": "code",
   "execution_count": 10,
   "metadata": {},
   "outputs": [
    {
     "data": {
      "text/plain": [
       "'Daniel Felipe Martínez es un ciclista profesional colombiano que compite en la modalidad de ruta. Nació en Bogotá en 1996 y desde 2024 corre para el equipo alemán Bora-Hansgrohe. Ha participado en varias competiciones importantes, como el Tour de Francia, el Giro de Italia y la Vuelta a España, logrando victorias en etapas y campeonatos nacionales de contrarreloj. Además, ha obtenido buenos resultados en carreras como la Vuelta al País Vasco y el Critérium del Dauphiné.\\n\\nMartínez comenzó su carrera como ciclista en 2015 con el equipo Team Colombia, luego pasó por Wilier Selle Italia, EF Education First – Drapac y INEOS Grenadiers antes de unirse a Bora-Hansgrohe. Durante su carrera, ha demostrado ser un escalador y contrarrelojista destacado, logrando victorias en diferentes competiciones y obteniendo buenos resultados en carreras de renombre. Su trayectoria incluye participaciones en varias Grandes Vueltas y en clásicas y campeonatos nacionales, consolidándose como uno de los ciclistas colombianos más destacados en la actualidad.'"
      ]
     },
     "execution_count": 10,
     "metadata": {},
     "output_type": "execute_result"
    }
   ],
   "source": [
    "def summary_web_page(url: str) -> str:\n",
    "    \"\"\"\n",
    "    Genera un resumen en español de dos párrafos del contenido de la página web indicada por la URL proporcionada.\n",
    "    \n",
    "    :param url: Una cadena de texto que representa la URL de la página web a resumir.\n",
    "    :return: Una cadena de texto que contiene el resumen en español de la página web.\n",
    "    \n",
    "    Uso:\n",
    "    summary = summary_web_page(\"https://example.com\")\n",
    "    print(summary)\n",
    "    \"\"\"\n",
    "    prompt_template = \"\"\"Dame un resumen en 2 párrafos y en español del siguiente texto:\n",
    "    \"{text}\"\n",
    "    CONCISE SUMMARY:\"\"\"\n",
    "    loader = WebBaseLoader(url)\n",
    "    docs = loader.load()\n",
    "\n",
    "    prompt = PromptTemplate.from_template(prompt_template)\n",
    "    llm = ChatOpenAI(\n",
    "        temperature=0,\n",
    "        model_name=\"gpt-3.5-turbo-1106\",\n",
    "        openai_api_key=OPENAI_API_KEY,\n",
    "        max_tokens=512\n",
    "    )\n",
    "\n",
    "    llm_chain = LLMChain(llm=llm, prompt=prompt)\n",
    "    stuff_chain = StuffDocumentsChain(llm_chain=llm_chain, document_variable_name=\"text\")\n",
    "\n",
    "    return stuff_chain.invoke(docs)[\"output_text\"]\n",
    "\n",
    "\n",
    "summary_web_page(\"https://es.wikipedia.org/wiki/Daniel_Felipe_Mart%C3%ADnez\")"
   ]
  },
  {
   "cell_type": "code",
   "execution_count": 11,
   "metadata": {},
   "outputs": [
    {
     "name": "stdout",
     "output_type": "stream",
     "text": [
      "El texto es un artículo que explora la creación de agentes autónomos impulsados por modelos de lenguaje grandes (LLM). Se detalla cómo estos agentes utilizan el LLM como su cerebro, complementado por componentes clave como la planificación, la memoria y el uso de herramientas. Se presentan ejemplos de casos de estudio y pruebas de concepto, así como desafíos y limitaciones en el uso de LLM para la creación de agentes autónomos.\n",
      "\n",
      "El artículo explora cómo los agentes autónomos utilizan el LLM como su núcleo, junto con componentes como la planificación, la memoria y el uso de herramientas. Se presentan ejemplos de casos de estudio y pruebas de concepto, así como desafíos y limitaciones en el uso de LLM para la creación de agentes autónomos.\n"
     ]
    }
   ],
   "source": [
    "print(summary_web_page(\"https://lilianweng.github.io/posts/2023-06-23-agent/\"))"
   ]
  }
 ],
 "metadata": {
  "colab": {
   "authorship_tag": "ABX9TyOGMBpGzRJu0U7Lmu1TXxkD",
   "provenance": []
  },
  "kernelspec": {
   "display_name": "Python 3 (ipykernel)",
   "language": "python",
   "name": "python3"
  },
  "language_info": {
   "codemirror_mode": {
    "name": "ipython",
    "version": 3
   },
   "file_extension": ".py",
   "mimetype": "text/x-python",
   "name": "python",
   "nbconvert_exporter": "python",
   "pygments_lexer": "ipython3",
   "version": "3.10.12"
  }
 },
 "nbformat": 4,
 "nbformat_minor": 1
}
