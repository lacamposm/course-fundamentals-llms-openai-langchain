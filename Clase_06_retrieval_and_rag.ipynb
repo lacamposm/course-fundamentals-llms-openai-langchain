{
 "cells": [
  {
   "cell_type": "markdown",
   "metadata": {
    "id": "sHqfwjHTrPVe"
   },
   "source": [
    "---\n",
    "<p align=\"center\">\n",
    "  <img src=\"https://github.com/lacamposm/course-fundamentals-llms-openai-langchain/raw/main/images/image_igac.jpg\" alt=\"Imagen_IGAC\" width=\"280\">\n",
    "</p>"
   ]
  },
  {
   "cell_type": "markdown",
   "metadata": {
    "id": "CcolQEVcoqh7"
   },
   "source": [
    "---\n",
    "\n",
    "# ***Fundamentos de LLMs con Python: Explorando ChatGPT y LangChain***\n",
    "\n",
    "---\n",
    "\n",
    "#### ***Instructor: [Luis Andrés Campos Maldonado](https://www.linkedin.com/in/lacamposm/)***\n",
    "\n",
    "##### ***Email: luisandres.campos@igac.gov.co***\n",
    "\n",
    "##### ***Contratista-Observatorio Inmobiliario Catastral***\n",
    "\n",
    "\n",
    "\n"
   ]
  },
  {
   "cell_type": "markdown",
   "metadata": {
    "id": "rdTcl3zMr7OA"
   },
   "source": [
    "---\n",
    "\n",
    "# ***Clase 06 - 05 de abril de 2024***\n",
    "---\n",
    "\n",
    "## ***Similarity Search y QA Retrieval Chain***\n",
    "\n",
    "**Objetivos de Aprendizaje:**\n",
    "\n",
    "- Explicar los principios de la búsqueda por similitud y su importancia en la recuperación de información.\n",
    "- Introducir el concepto de QA Retrieval Chain y cómo se puede implementar para buscar respuestas en documentos."
   ]
  },
  {
   "cell_type": "markdown",
   "metadata": {},
   "source": [
    "En nuestra sesión anterior, exploramos los conceptos de:\n",
    "\n",
    "- Embeddings.\n",
    "- Bases de datos vectoriales.\n",
    "- Similaridad.\n",
    "- Recuperación de información relevante."
   ]
  },
  {
   "cell_type": "code",
   "execution_count": 1,
   "metadata": {},
   "outputs": [
    {
     "name": "stdout",
     "output_type": "stream",
     "text": [
      "Requirement already satisfied: pandas in ./.venv/lib/python3.10/site-packages (2.2.1)\n",
      "Requirement already satisfied: openpyxl in ./.venv/lib/python3.10/site-packages (3.1.2)\n",
      "Requirement already satisfied: langchain in ./.venv/lib/python3.10/site-packages (0.1.9)\n",
      "Requirement already satisfied: openai in ./.venv/lib/python3.10/site-packages (1.13.3)\n",
      "Requirement already satisfied: langchain-openai in ./.venv/lib/python3.10/site-packages (0.0.8)\n",
      "Requirement already satisfied: langchain-community in ./.venv/lib/python3.10/site-packages (0.0.24)\n",
      "Requirement already satisfied: langchain-core in ./.venv/lib/python3.10/site-packages (0.1.28)\n",
      "Requirement already satisfied: langchain-text-splitters in ./.venv/lib/python3.10/site-packages (0.0.1)\n",
      "Requirement already satisfied: chromadb in ./.venv/lib/python3.10/site-packages (0.4.24)\n",
      "Requirement already satisfied: pypdf in ./.venv/lib/python3.10/site-packages (4.1.0)\n",
      "Requirement already satisfied: numpy<2,>=1.22.4 in ./.venv/lib/python3.10/site-packages (from pandas) (1.26.4)\n",
      "Requirement already satisfied: python-dateutil>=2.8.2 in ./.venv/lib/python3.10/site-packages (from pandas) (2.8.2)\n",
      "Requirement already satisfied: pytz>=2020.1 in ./.venv/lib/python3.10/site-packages (from pandas) (2024.1)\n",
      "Requirement already satisfied: tzdata>=2022.7 in ./.venv/lib/python3.10/site-packages (from pandas) (2024.1)\n",
      "Requirement already satisfied: et-xmlfile in ./.venv/lib/python3.10/site-packages (from openpyxl) (1.1.0)\n",
      "Requirement already satisfied: PyYAML>=5.3 in ./.venv/lib/python3.10/site-packages (from langchain) (6.0.1)\n",
      "Requirement already satisfied: SQLAlchemy<3,>=1.4 in ./.venv/lib/python3.10/site-packages (from langchain) (2.0.27)\n",
      "Requirement already satisfied: aiohttp<4.0.0,>=3.8.3 in ./.venv/lib/python3.10/site-packages (from langchain) (3.9.3)\n",
      "Requirement already satisfied: async-timeout<5.0.0,>=4.0.0 in ./.venv/lib/python3.10/site-packages (from langchain) (4.0.3)\n",
      "Requirement already satisfied: dataclasses-json<0.7,>=0.5.7 in ./.venv/lib/python3.10/site-packages (from langchain) (0.6.4)\n",
      "Requirement already satisfied: jsonpatch<2.0,>=1.33 in ./.venv/lib/python3.10/site-packages (from langchain) (1.33)\n",
      "Requirement already satisfied: langsmith<0.2.0,>=0.1.0 in ./.venv/lib/python3.10/site-packages (from langchain) (0.1.10)\n",
      "Requirement already satisfied: pydantic<3,>=1 in ./.venv/lib/python3.10/site-packages (from langchain) (2.6.3)\n",
      "Requirement already satisfied: requests<3,>=2 in ./.venv/lib/python3.10/site-packages (from langchain) (2.31.0)\n",
      "Requirement already satisfied: tenacity<9.0.0,>=8.1.0 in ./.venv/lib/python3.10/site-packages (from langchain) (8.2.3)\n",
      "Requirement already satisfied: anyio<5,>=3.5.0 in ./.venv/lib/python3.10/site-packages (from openai) (4.3.0)\n",
      "Requirement already satisfied: distro<2,>=1.7.0 in ./.venv/lib/python3.10/site-packages (from openai) (1.9.0)\n",
      "Requirement already satisfied: httpx<1,>=0.23.0 in ./.venv/lib/python3.10/site-packages (from openai) (0.27.0)\n",
      "Requirement already satisfied: sniffio in ./.venv/lib/python3.10/site-packages (from openai) (1.3.1)\n",
      "Requirement already satisfied: tqdm>4 in ./.venv/lib/python3.10/site-packages (from openai) (4.66.2)\n",
      "Requirement already satisfied: typing-extensions<5,>=4.7 in ./.venv/lib/python3.10/site-packages (from openai) (4.10.0)\n",
      "Requirement already satisfied: tiktoken<1,>=0.5.2 in ./.venv/lib/python3.10/site-packages (from langchain-openai) (0.6.0)\n",
      "Requirement already satisfied: packaging<24.0,>=23.2 in ./.venv/lib/python3.10/site-packages (from langchain-core) (23.2)\n",
      "Requirement already satisfied: build>=1.0.3 in ./.venv/lib/python3.10/site-packages (from chromadb) (1.1.1)\n",
      "Requirement already satisfied: chroma-hnswlib==0.7.3 in ./.venv/lib/python3.10/site-packages (from chromadb) (0.7.3)\n",
      "Requirement already satisfied: fastapi>=0.95.2 in ./.venv/lib/python3.10/site-packages (from chromadb) (0.110.0)\n",
      "Requirement already satisfied: uvicorn>=0.18.3 in ./.venv/lib/python3.10/site-packages (from uvicorn[standard]>=0.18.3->chromadb) (0.29.0)\n",
      "Requirement already satisfied: posthog>=2.4.0 in ./.venv/lib/python3.10/site-packages (from chromadb) (3.5.0)\n",
      "Requirement already satisfied: pulsar-client>=3.1.0 in ./.venv/lib/python3.10/site-packages (from chromadb) (3.4.0)\n",
      "Requirement already satisfied: onnxruntime>=1.14.1 in ./.venv/lib/python3.10/site-packages (from chromadb) (1.17.1)\n",
      "Requirement already satisfied: opentelemetry-api>=1.2.0 in ./.venv/lib/python3.10/site-packages (from chromadb) (1.23.0)\n",
      "Requirement already satisfied: opentelemetry-exporter-otlp-proto-grpc>=1.2.0 in ./.venv/lib/python3.10/site-packages (from chromadb) (1.23.0)\n",
      "Requirement already satisfied: opentelemetry-instrumentation-fastapi>=0.41b0 in ./.venv/lib/python3.10/site-packages (from chromadb) (0.44b0)\n",
      "Requirement already satisfied: opentelemetry-sdk>=1.2.0 in ./.venv/lib/python3.10/site-packages (from chromadb) (1.23.0)\n",
      "Requirement already satisfied: tokenizers>=0.13.2 in ./.venv/lib/python3.10/site-packages (from chromadb) (0.15.2)\n",
      "Requirement already satisfied: pypika>=0.48.9 in ./.venv/lib/python3.10/site-packages (from chromadb) (0.48.9)\n",
      "Requirement already satisfied: overrides>=7.3.1 in ./.venv/lib/python3.10/site-packages (from chromadb) (7.7.0)\n",
      "Requirement already satisfied: importlib-resources in ./.venv/lib/python3.10/site-packages (from chromadb) (6.4.0)\n",
      "Requirement already satisfied: grpcio>=1.58.0 in ./.venv/lib/python3.10/site-packages (from chromadb) (1.62.1)\n",
      "Requirement already satisfied: bcrypt>=4.0.1 in ./.venv/lib/python3.10/site-packages (from chromadb) (4.1.2)\n",
      "Requirement already satisfied: typer>=0.9.0 in ./.venv/lib/python3.10/site-packages (from chromadb) (0.9.0)\n",
      "Requirement already satisfied: kubernetes>=28.1.0 in ./.venv/lib/python3.10/site-packages (from chromadb) (29.0.0)\n",
      "Requirement already satisfied: mmh3>=4.0.1 in ./.venv/lib/python3.10/site-packages (from chromadb) (4.1.0)\n",
      "Requirement already satisfied: orjson>=3.9.12 in ./.venv/lib/python3.10/site-packages (from chromadb) (3.9.15)\n",
      "Requirement already satisfied: aiosignal>=1.1.2 in ./.venv/lib/python3.10/site-packages (from aiohttp<4.0.0,>=3.8.3->langchain) (1.3.1)\n",
      "Requirement already satisfied: attrs>=17.3.0 in ./.venv/lib/python3.10/site-packages (from aiohttp<4.0.0,>=3.8.3->langchain) (23.2.0)\n",
      "Requirement already satisfied: frozenlist>=1.1.1 in ./.venv/lib/python3.10/site-packages (from aiohttp<4.0.0,>=3.8.3->langchain) (1.4.1)\n",
      "Requirement already satisfied: multidict<7.0,>=4.5 in ./.venv/lib/python3.10/site-packages (from aiohttp<4.0.0,>=3.8.3->langchain) (6.0.5)\n",
      "Requirement already satisfied: yarl<2.0,>=1.0 in ./.venv/lib/python3.10/site-packages (from aiohttp<4.0.0,>=3.8.3->langchain) (1.9.4)\n",
      "Requirement already satisfied: idna>=2.8 in ./.venv/lib/python3.10/site-packages (from anyio<5,>=3.5.0->openai) (3.6)\n",
      "Requirement already satisfied: exceptiongroup>=1.0.2 in ./.venv/lib/python3.10/site-packages (from anyio<5,>=3.5.0->openai) (1.2.0)\n",
      "Requirement already satisfied: pyproject_hooks in ./.venv/lib/python3.10/site-packages (from build>=1.0.3->chromadb) (1.0.0)\n",
      "Requirement already satisfied: tomli>=1.1.0 in ./.venv/lib/python3.10/site-packages (from build>=1.0.3->chromadb) (2.0.1)\n",
      "Requirement already satisfied: marshmallow<4.0.0,>=3.18.0 in ./.venv/lib/python3.10/site-packages (from dataclasses-json<0.7,>=0.5.7->langchain) (3.21.0)\n",
      "Requirement already satisfied: typing-inspect<1,>=0.4.0 in ./.venv/lib/python3.10/site-packages (from dataclasses-json<0.7,>=0.5.7->langchain) (0.9.0)\n",
      "Requirement already satisfied: starlette<0.37.0,>=0.36.3 in ./.venv/lib/python3.10/site-packages (from fastapi>=0.95.2->chromadb) (0.36.3)\n",
      "Requirement already satisfied: certifi in ./.venv/lib/python3.10/site-packages (from httpx<1,>=0.23.0->openai) (2024.2.2)\n",
      "Requirement already satisfied: httpcore==1.* in ./.venv/lib/python3.10/site-packages (from httpx<1,>=0.23.0->openai) (1.0.4)\n",
      "Requirement already satisfied: h11<0.15,>=0.13 in ./.venv/lib/python3.10/site-packages (from httpcore==1.*->httpx<1,>=0.23.0->openai) (0.14.0)\n",
      "Requirement already satisfied: jsonpointer>=1.9 in ./.venv/lib/python3.10/site-packages (from jsonpatch<2.0,>=1.33->langchain) (2.4)\n",
      "Requirement already satisfied: six>=1.9.0 in ./.venv/lib/python3.10/site-packages (from kubernetes>=28.1.0->chromadb) (1.16.0)\n",
      "Requirement already satisfied: google-auth>=1.0.1 in ./.venv/lib/python3.10/site-packages (from kubernetes>=28.1.0->chromadb) (2.29.0)\n",
      "Requirement already satisfied: websocket-client!=0.40.0,!=0.41.*,!=0.42.*,>=0.32.0 in ./.venv/lib/python3.10/site-packages (from kubernetes>=28.1.0->chromadb) (1.7.0)\n",
      "Requirement already satisfied: requests-oauthlib in ./.venv/lib/python3.10/site-packages (from kubernetes>=28.1.0->chromadb) (1.4.0)\n",
      "Requirement already satisfied: oauthlib>=3.2.2 in ./.venv/lib/python3.10/site-packages (from kubernetes>=28.1.0->chromadb) (3.2.2)\n",
      "Requirement already satisfied: urllib3>=1.24.2 in ./.venv/lib/python3.10/site-packages (from kubernetes>=28.1.0->chromadb) (2.2.1)\n",
      "Requirement already satisfied: coloredlogs in ./.venv/lib/python3.10/site-packages (from onnxruntime>=1.14.1->chromadb) (15.0.1)\n",
      "Requirement already satisfied: flatbuffers in ./.venv/lib/python3.10/site-packages (from onnxruntime>=1.14.1->chromadb) (24.3.7)\n",
      "Requirement already satisfied: protobuf in ./.venv/lib/python3.10/site-packages (from onnxruntime>=1.14.1->chromadb) (4.25.3)\n",
      "Requirement already satisfied: sympy in ./.venv/lib/python3.10/site-packages (from onnxruntime>=1.14.1->chromadb) (1.12)\n",
      "Requirement already satisfied: deprecated>=1.2.6 in ./.venv/lib/python3.10/site-packages (from opentelemetry-api>=1.2.0->chromadb) (1.2.14)\n",
      "Requirement already satisfied: importlib-metadata<7.0,>=6.0 in ./.venv/lib/python3.10/site-packages (from opentelemetry-api>=1.2.0->chromadb) (6.11.0)\n",
      "Requirement already satisfied: googleapis-common-protos~=1.52 in ./.venv/lib/python3.10/site-packages (from opentelemetry-exporter-otlp-proto-grpc>=1.2.0->chromadb) (1.63.0)\n",
      "Requirement already satisfied: opentelemetry-exporter-otlp-proto-common==1.23.0 in ./.venv/lib/python3.10/site-packages (from opentelemetry-exporter-otlp-proto-grpc>=1.2.0->chromadb) (1.23.0)\n",
      "Requirement already satisfied: opentelemetry-proto==1.23.0 in ./.venv/lib/python3.10/site-packages (from opentelemetry-exporter-otlp-proto-grpc>=1.2.0->chromadb) (1.23.0)\n",
      "Requirement already satisfied: opentelemetry-instrumentation-asgi==0.44b0 in ./.venv/lib/python3.10/site-packages (from opentelemetry-instrumentation-fastapi>=0.41b0->chromadb) (0.44b0)\n",
      "Requirement already satisfied: opentelemetry-instrumentation==0.44b0 in ./.venv/lib/python3.10/site-packages (from opentelemetry-instrumentation-fastapi>=0.41b0->chromadb) (0.44b0)\n",
      "Requirement already satisfied: opentelemetry-semantic-conventions==0.44b0 in ./.venv/lib/python3.10/site-packages (from opentelemetry-instrumentation-fastapi>=0.41b0->chromadb) (0.44b0)\n",
      "Requirement already satisfied: opentelemetry-util-http==0.44b0 in ./.venv/lib/python3.10/site-packages (from opentelemetry-instrumentation-fastapi>=0.41b0->chromadb) (0.44b0)\n",
      "Requirement already satisfied: setuptools>=16.0 in ./.venv/lib/python3.10/site-packages (from opentelemetry-instrumentation==0.44b0->opentelemetry-instrumentation-fastapi>=0.41b0->chromadb) (69.2.0)\n",
      "Requirement already satisfied: wrapt<2.0.0,>=1.0.0 in ./.venv/lib/python3.10/site-packages (from opentelemetry-instrumentation==0.44b0->opentelemetry-instrumentation-fastapi>=0.41b0->chromadb) (1.16.0)\n",
      "Requirement already satisfied: asgiref~=3.0 in ./.venv/lib/python3.10/site-packages (from opentelemetry-instrumentation-asgi==0.44b0->opentelemetry-instrumentation-fastapi>=0.41b0->chromadb) (3.8.0)\n",
      "Requirement already satisfied: monotonic>=1.5 in ./.venv/lib/python3.10/site-packages (from posthog>=2.4.0->chromadb) (1.6)\n",
      "Requirement already satisfied: backoff>=1.10.0 in ./.venv/lib/python3.10/site-packages (from posthog>=2.4.0->chromadb) (2.2.1)\n",
      "Requirement already satisfied: annotated-types>=0.4.0 in ./.venv/lib/python3.10/site-packages (from pydantic<3,>=1->langchain) (0.6.0)\n",
      "Requirement already satisfied: pydantic-core==2.16.3 in ./.venv/lib/python3.10/site-packages (from pydantic<3,>=1->langchain) (2.16.3)\n",
      "Requirement already satisfied: charset-normalizer<4,>=2 in ./.venv/lib/python3.10/site-packages (from requests<3,>=2->langchain) (3.3.2)\n",
      "Requirement already satisfied: greenlet!=0.4.17 in ./.venv/lib/python3.10/site-packages (from SQLAlchemy<3,>=1.4->langchain) (3.0.3)\n",
      "Requirement already satisfied: regex>=2022.1.18 in ./.venv/lib/python3.10/site-packages (from tiktoken<1,>=0.5.2->langchain-openai) (2023.12.25)\n",
      "Requirement already satisfied: huggingface_hub<1.0,>=0.16.4 in ./.venv/lib/python3.10/site-packages (from tokenizers>=0.13.2->chromadb) (0.21.4)\n",
      "Requirement already satisfied: click<9.0.0,>=7.1.1 in ./.venv/lib/python3.10/site-packages (from typer>=0.9.0->chromadb) (8.1.7)\n",
      "Requirement already satisfied: httptools>=0.5.0 in ./.venv/lib/python3.10/site-packages (from uvicorn[standard]>=0.18.3->chromadb) (0.6.1)\n",
      "Requirement already satisfied: python-dotenv>=0.13 in ./.venv/lib/python3.10/site-packages (from uvicorn[standard]>=0.18.3->chromadb) (1.0.1)\n",
      "Requirement already satisfied: uvloop!=0.15.0,!=0.15.1,>=0.14.0 in ./.venv/lib/python3.10/site-packages (from uvicorn[standard]>=0.18.3->chromadb) (0.19.0)\n",
      "Requirement already satisfied: watchfiles>=0.13 in ./.venv/lib/python3.10/site-packages (from uvicorn[standard]>=0.18.3->chromadb) (0.21.0)\n",
      "Requirement already satisfied: websockets>=10.4 in ./.venv/lib/python3.10/site-packages (from uvicorn[standard]>=0.18.3->chromadb) (12.0)\n",
      "Requirement already satisfied: cachetools<6.0,>=2.0.0 in ./.venv/lib/python3.10/site-packages (from google-auth>=1.0.1->kubernetes>=28.1.0->chromadb) (5.3.3)\n",
      "Requirement already satisfied: pyasn1-modules>=0.2.1 in ./.venv/lib/python3.10/site-packages (from google-auth>=1.0.1->kubernetes>=28.1.0->chromadb) (0.3.0)\n",
      "Requirement already satisfied: rsa<5,>=3.1.4 in ./.venv/lib/python3.10/site-packages (from google-auth>=1.0.1->kubernetes>=28.1.0->chromadb) (4.9)\n",
      "Requirement already satisfied: filelock in ./.venv/lib/python3.10/site-packages (from huggingface_hub<1.0,>=0.16.4->tokenizers>=0.13.2->chromadb) (3.13.1)\n",
      "Requirement already satisfied: fsspec>=2023.5.0 in ./.venv/lib/python3.10/site-packages (from huggingface_hub<1.0,>=0.16.4->tokenizers>=0.13.2->chromadb) (2024.3.1)\n",
      "Requirement already satisfied: zipp>=0.5 in ./.venv/lib/python3.10/site-packages (from importlib-metadata<7.0,>=6.0->opentelemetry-api>=1.2.0->chromadb) (3.18.1)\n",
      "Requirement already satisfied: mypy-extensions>=0.3.0 in ./.venv/lib/python3.10/site-packages (from typing-inspect<1,>=0.4.0->dataclasses-json<0.7,>=0.5.7->langchain) (1.0.0)\n",
      "Requirement already satisfied: humanfriendly>=9.1 in ./.venv/lib/python3.10/site-packages (from coloredlogs->onnxruntime>=1.14.1->chromadb) (10.0)\n",
      "Requirement already satisfied: mpmath>=0.19 in ./.venv/lib/python3.10/site-packages (from sympy->onnxruntime>=1.14.1->chromadb) (1.3.0)\n",
      "Requirement already satisfied: pyasn1<0.6.0,>=0.4.6 in ./.venv/lib/python3.10/site-packages (from pyasn1-modules>=0.2.1->google-auth>=1.0.1->kubernetes>=28.1.0->chromadb) (0.5.1)\n"
     ]
    }
   ],
   "source": [
    "!pip install pandas openpyxl langchain openai langchain-openai langchain-community langchain-core langchain-text-splitters chromadb pypdf"
   ]
  },
  {
   "cell_type": "code",
   "execution_count": 2,
   "metadata": {},
   "outputs": [],
   "source": [
    "# Definimos una variable de entorno para la API KEY de OpenAI.\n",
    "import os\n",
    "os.environ[\"OPENAI_API_KEY\"] = \"<YOUR_API_KEY>\""
   ]
  },
  {
   "cell_type": "code",
   "execution_count": 3,
   "metadata": {},
   "outputs": [],
   "source": [
    "import requests\n",
    "from langchain_community.document_loaders import TextLoader\n",
    "from langchain_openai import OpenAIEmbeddings\n",
    "from langchain_community.vectorstores import Chroma\n",
    "from langchain_text_splitters import RecursiveCharacterTextSplitter"
   ]
  },
  {
   "cell_type": "code",
   "execution_count": 4,
   "metadata": {},
   "outputs": [],
   "source": [
    "response = requests.get(\n",
    "    \"https://raw.githubusercontent.com/lacamposm/course-fundamentals-llms-openai-langchain/main/data/soledad_fragmento.txt\"\n",
    "    )\n",
    "with open(\"soledad_fragmento.txt\", \"w\", encoding=\"utf-8\") as file:\n",
    "        file.write(response.text)\n",
    "\n",
    "openai_embeddings = OpenAIEmbeddings(\n",
    "    model=\"text-embedding-ada-002\",\n",
    " )\n",
    "\n",
    "vectorstore = Chroma(collection_name=\"final_soledad_fragmento\")\n",
    "loader = TextLoader(\"soledad_fragmento.txt\")\n",
    "documents = loader.load()\n",
    "text_splitter = RecursiveCharacterTextSplitter(separators=[\"\\n\\n\", \"\\n\"], chunk_size=1000, chunk_overlap=100)\n",
    "docs = text_splitter.split_documents(documents)\n",
    "db = vectorstore.from_documents(documents=docs, embedding=openai_embeddings)"
   ]
  },
  {
   "cell_type": "code",
   "execution_count": 5,
   "metadata": {},
   "outputs": [
    {
     "data": {
      "text/plain": [
       "[Document(page_content='\\nCuando volvieron los gitanos, Úrsula había predispuesto contra ellos a toda la población. Pero la curiosidad pudo más que el temor, porque aquella vez los gitanos recorrieron la aldea haciendo un ruido ensordecedor con toda clase de instrumentos músicos, mientras el pregonero anunciaba la exhibición del más fabuloso hallazgo de los nasciancenos. De modo que todo el mundo se fue a la carpa, y mediante el pago de un centavo vieron un Melquíades juvenil, repuesto, desarrugado, con una dentadura nueva y radiante. Quienes recordaban sus encías destruidas por el escorbuto, sus mejillas fláccidas y sus labios marchitos se estremecieron de pavor ante aquella prueba terminante de los poderes sobrenaturales del gitano. El pavor se convirtió en pánico cuando Melquíades se sacó los dientes, intactos, engastados en las encías, y se los mostró al público por un instante —un instante fugaz en que volvió a ser el mismo hombre decrépito de los años anteriores— y se los puso otra vez y sonrió de nuevo con un dominio pleno de su juventud restaurada. Hasta el propio José Arcadio Buendía consideró que los conocimientos de Melquíades habían llegado a extremos intolerables, pero experimentó un saludable alborozo cuando el gitano le explicó a solas el mecanismo de su dentadura postiza. Aquello le pareció a la vez tan sencillo y prodigioso, que de la noche a la mañana perdió todo interés en las investigaciones de alquimia; sufrió una nueva crisis de mal humor, no volvió a comer en forma regular y se pasaba el día dando vueltas por la casa. «En el mundo están ocurriendo cosas increíbles», le decía a Úrsula. «Ahí mismo, al otro lado del río, hay toda clase de aparatos mágicos, mientras nosotros seguimos viviendo como los burros.» Quienes lo conocían desde los tiempos de la fundación de Macondo se asombraban de cuánto había cambiado bajo la influencia de Melquíades.', metadata={'source': 'soledad_fragmento.txt'}),\n",
       " Document(page_content='Eran gitanos nuevos. Hombres y mujeres jóvenes que sólo conocían su propia lengua, ejemplares hermosos de piel aceitada y manos inteligentes, cuyos bailes y músicas sembraron en las calles un pánico de alborotada alegría, con sus loros pintados de todos los colores que recitaban romanzas italianas, y la gallina que ponía un centenar de huevos de oro al son de la pandereta, y el mono amaestrado que adivinaba el pensamiento, y la máquina múltiple que servía al mismo tiempo para pegar botones y bajar la fiebre, y el aparato para olvidar los malos recuerdos, y el emplasto para perder el tiempo, y un millar de invenciones más, tan ingeniosas e insólitas, que José Arcadio Buendía hubiera querido inventar la máquina de la memoria para poder acordarse de todas. En un instante transformaron la aldea. Los habitantes de Macondo se encontraron de pronto perdidos en sus propias calles, aturdidos por la feria multitudinaria.', metadata={'source': 'soledad_fragmento.txt'}),\n",
       " Document(page_content='\\nEn marzo volvieron los gitanos. Esta vez llevaban un catalejo y una lupa del tamaño de un tambor, que exhibieron como el último descubrimiento de los judíos de Amsterdam. Sentaron una gitana en un extremo de la aldea e instalaron el catalejo a la entrada de la carpa. Mediante el pago de cinco reales, la gente se asomaba al catalejo y veía a la gitana al alcance de su mano. «La ciencia ha eliminado las distancias», pregonaba Melquíades. «Dentro de poco, el hombre podrá ver lo que ocurre en cualquier lugar de la tierra, sin moverse de su casa.» Un mediodía ardiente hicieron una asombrosa demostración con la lupa gigantesca: pusieron un montón de hierba seca en mitad de la calle y le prendieron fuego mediante la concentración de los rayos solares. José Arcadio Buendía, que aún no acababa de consolarse por el fracaso de sus imanes, concibió la idea de utilizar aquel invento como un arma de guerra. Melquíades, otra vez, trató de disuadirlo. Pero terminó por aceptar los dos lingotes imantados y tres piezas de dinero colonial a cambio de la lupa. Úrsula lloró de consternación. Aquel dinero formaba parte de un cofre de monedas de oro que su padre había acumulado en toda una vida de privaciones, y que ella había enterrado debajo de la cama en espera de una buena ocasión para invertirlas. José Arcadio Buendía no trató siquiera de consolarla, entregado por entero a sus experimentos tácticos con la abnegación de un científico y aun a riesgo de su propia vida. Tratando de demostrar los efectos de la lupa en la tropa enemiga, se expuso él mismo a la concentración de los rayos solares y sufrió quemaduras que se convirtieron en úlceras y tardaron mucho tiempo en sanar. Ante las protestas de su mujer, alarmada por tan peligrosa inventiva, estuvo a punto de incendiar la casa. Pasaba largas horas en su cuarto, haciendo cálculos sobre las posibilidades estratégicas de su arma novedosa, hasta que logró componer un manual de una asombrosa claridad didáctica y un poder de convicción irresistible. Lo envió a las autoridades acompañado de numerosos testimonios sobre sus experiencias y de varios pliegos de dibujos explicativos, al cuidado de un mensajero que atravesó la sierra, se extravió en pantanos desmesurados, remontó ríos tormentosos y estuvo a punto de perecer bajo el azote de las fieras, la desesperación y la peste, antes de conseguir una ruta de enlace con las mulas del correo. A pesar de que el viaje a la capital era en aquel tiempo poco menos que imposible, José Arcadio Buendía prometía intentarlo tan pronto como se lo ordenara el gobierno, con el fin de hacer demostraciones prácticas de su invento ante los poderes militares, y adiestrarlos personalmente en las complicadas artes de la guerra solar. Durante varios años esperó la respuesta. Por último, cansado de esperar, se lamentó ante Melquíades del fracaso de su iniciativa, y el gitano dio entonces una prueba convincente de honradez: le devolvió los doblones a cambio de la lupa, y le dejó además unos mapas portugueses y varios instrumentos de navegación. De su puño y letra escribió una apretada síntesis de los estudios del monje Hermann, que dejó a su disposición para que pudiera servirse del astrolabio, la brújula y el sextante. José Arcadio Buendía pasó los largos meses de lluvia encerrado en un cuartito que construyó en el fondo de la casa para que nadie perturbara sus experimentos. Habiendo abandonado por completo las obligaciones domésticas, permaneció noches enteras en el patio vigilando el curso de los astros, y estuvo a punto de contraer una insolación por tratar de establecer un método exacto para encontrar el mediodía. Cuando se hizo experto en el uso y manejo de sus instrumentos, tuvo una noción del espacio que le permitió navegar por mares incógnitos, visitar territorios deshabitados y trabar relación con seres espléndidos, sin necesidad de abandonar su gabinete. Fue esa la época en que adquirió el hábito de hablar a solas, paseándose por la casa sin hacer caso de nadie, mientras Úrsula y los niños se partían el espinazo en la huerta cuidando el plátano y la malanga, la ', metadata={'source': 'soledad_fragmento.txt'}),\n",
       " Document(page_content='Desde los tiempos de la fundación, José Arcadio Buendía construyó trampas y jaulas. En poco tiempo llenó de turpiales, canarios, azulejos y petirrojos no sólo la propia casa, sino todas las de la aldea. El concierto de tantos pájaros distintos llegó a ser tan aturdidor, que Úrsula se tapó los oídos con cera de abejas para no perder el sentido de la realidad. La primera vez que llegó la tribu de Melquíades vendiendo bolas de vidrio para el dolor de cabeza, todo el mundo se sorprendió de que hubieran podido encontrar aquella aldea perdida en el sopor de la ciénaga, y los gitanos confesaron que se habían orientado por el canto de los pájaros.', metadata={'source': 'soledad_fragmento.txt'})]"
      ]
     },
     "execution_count": 5,
     "metadata": {},
     "output_type": "execute_result"
    }
   ],
   "source": [
    "def get_text_relevant_soledad_fragmento(query, number_docs=2):\n",
    "    \"\"\"\n",
    "    Realiza una búsqueda de los fragmentos de texto más relevantes respecto a una consulta específica\n",
    "    utilizando una base de datos vectorial para encontrar las correspondencias semánticas más cercanas.\n",
    "\n",
    "    Parámetros:\n",
    "    - query (str): El texto de la consulta para la cual se buscan fragmentos relevantes.\n",
    "    - number_docs (int, opcional): El número de documentos más relevantes que se deben retornar.\n",
    "    \"\"\"\n",
    "    return db.similarity_search(query, k=number_docs)\n",
    "\n",
    "get_text_relevant_soledad_fragmento(\"¿Cuando volvieron los gitanos?\", number_docs=4)"
   ]
  },
  {
   "cell_type": "code",
   "execution_count": 6,
   "metadata": {},
   "outputs": [
    {
     "data": {
      "text/plain": [
       "[Document(page_content='José Arcadio Buendía, que era el hombre más emprendedor que se vería jamás en la aldea, había dispuesto de tal modo la posición de las casas, que desde todas podía llegarse al río y abastecerse de agua con igual esfuerzo, y trazó las calles con tan buen sentido que ninguna casa recibía más sol que otra a la hora del calor. En pocos años, Macondo fue una aldea más ordenada y laboriosa que cualquiera de las conocidas hasta entonces por sus 300 habitantes. Era en verdad una aldea feliz, donde nadie era mayor de treinta años y donde nadie había muerto.', metadata={'source': 'soledad_fragmento.txt'}),\n",
       " Document(page_content='\\nLa idea de un Macondo peninsular prevaleció durante mucho tiempo, inspirada en el mapa arbitrario que dibujó José Arcadio Buendía al regreso de su expedición. Lo trazó con rabia, exagerando de mala fe las dificultades de comunicación, como para castigarse a sí mismo por la absoluta falta de sentido con que eligió el lugar. «Nunca llegaremos a ninguna parte», se lamentaba ante Úrsula. «Aquí nos hemos de pudrir en vida sin recibir los beneficios de la ciencia.» Esa certidumbre, rumiada varios meses en el cuartito del laboratorio, lo llevó a concebir el proyecto de trasladar a Macondo a un lugar más propicio. Pero esta vez, Úrsula se anticipó a sus designios febriles. En una secreta e implacable labor de hormiguita predispuso a las mujeres de la aldea contra la veleidad de sus hombres, que ya empezaban a prepararse para la mudanza. José Arcadio Buendía no supo en qué momento, ni en virtud de qué fuerzas adversas, sus planes se fueron enredando en una maraña de pretextos, contratiempos y evasivas, hasta convertirse en pura y simple ilusión. Úrsula lo observó con una atención inocente, y hasta sintió por él un poco de piedad, la mañana en que lo encontró en el cuartito del fondo comentando entre dientes sus sueños de mudanza, mientras colocaba en sus cajas originales las piezas del laboratorio. Lo dejó terminar. Lo dejó clavar las cajas y poner sus iniciales encima con un hisopo entintado, sin hacerle ningún reproche, pero sabiendo ya que él sabía (porque se lo oyó decir en sus sordos monólogos) que los hombres del pueblo no lo secundarían en su empresa. Sólo cuando empezó a desmontar la puerta del cuartito, Úrsula se atrevió a preguntarle por qué lo hacía, y él le contestó con una cierta amargura: «Puesto que nadie quiere irse, nos iremos solos.» Úrsula no se alteró.', metadata={'source': 'soledad_fragmento.txt'})]"
      ]
     },
     "execution_count": 6,
     "metadata": {},
     "output_type": "execute_result"
    }
   ],
   "source": [
    "get_text_relevant_soledad_fragmento(\"¿Que es Macondo?\", number_docs=2)"
   ]
  },
  {
   "cell_type": "markdown",
   "metadata": {},
   "source": [
    "<p align=\"center\">\n",
    "  <img src=\"https://github.com/lacamposm/course-fundamentals-llms-openai-langchain/raw/main/images/retrieval_data_connection.jpg\" width=\"900\" height=\"350\">\n",
    "</p>"
   ]
  },
  {
   "cell_type": "markdown",
   "metadata": {},
   "source": [
    "## ***RAG - Retriver Augmented Generation.***\n",
    "\n",
    "Es un marco de trabajo en el procesamiento de lenguaje natural (NLP) diseñado para mejorar las tareas de pregunta y respuesta (QA) mediante la integración de un mecanismo de búsqueda (retrieval) con la generación de texto basada en LLMs. Este enfoque híbrido utiliza primero un componente de retrieval para identificar y recuperar fragmentos de texto relevantes de una base de datos o conjunto de documentos, y luego utiliza un componente de generation para sintetizar la información recuperada en una respuesta coherente y contextualmente rica. Veamos más de cerca los dos componentes principales:\n",
    "\n",
    "- Retriever.\n",
    "\n",
    "El retriever se encarga de buscar en una colección de documentos para encontrar aquellos que son más relevantes para una pregunta específica. Funciona identificando similitudes semánticas entre la pregunta y los documentos utilizando técnicas como la búsqueda por similitud en espacios vectoriales. El objetivo es filtrar la vasta cantidad de información disponible y seleccionar solo los fragmentos de texto que probablemente contengan la respuesta a la pregunta.\n",
    "\n",
    "- Generator.\n",
    "\n",
    "El generator es un LLM, este toma la información recuperada por el retriever y la procesa para generar una respuesta. Este componente tiene la capacidad de comprender el contexto proporcionado por los fragmentos de texto seleccionados y sintetizar una respuesta coherente y precisa que aborde la pregunta original.\n",
    "\n",
    "- Funcionamiento de RAG.\n",
    "\n",
    "La combinación de estos componentes permite que el RAG aborde preguntas complejas que requieren conocimiento especializado o específico más allá del contenido entrenado en los modelos de generación de lenguaje. Al acceder dinámicamente a información relevante durante el proceso de generación de respuestas, RAG es capaz de producir respuestas que son tanto informativas como específicas, reflejando una comprensión más profunda y actualizada del tema en cuestión.\n",
    "\n",
    "- Aplicaciones de RAG.\n",
    "\n",
    "RAG es particularmente útil en sistemas de QA donde la precisión y relevancia de las respuestas son críticas, como en asistentes virtuales, herramientas de soporte al cliente o en aplicaciones educativas. Al integrar la búsqueda y la generación de manera fluida, RAG representa un avance significativo en la capacidad de los sistemas de NLP para manejar consultas complejas y proporcionar respuestas que satisfacen las necesidades de información de los usuarios."
   ]
  },
  {
   "cell_type": "markdown",
   "metadata": {},
   "source": [
    "### ***Ejemplo***\n",
    "\n",
    "Deseamos realizar preguntas al documento:\n",
    "\n",
    " *CATASTRO MULTIPROPÓSITO PARA LA PLANEACIÓN Y LA GESTIÓN TERRITORIAL DOCUMENTO CONCEPTUAL*\n",
    "\n",
    "emitido por el *Departamento Nacional de Planeación DNP* en noviembre de 2023."
   ]
  },
  {
   "cell_type": "code",
   "execution_count": 1,
   "metadata": {},
   "outputs": [],
   "source": [
    "from langchain_openai import ChatOpenAI, OpenAIEmbeddings\n",
    "from langchain_core.runnables import RunnablePassthrough\n",
    "from langchain_core.prompts import ChatPromptTemplate\n",
    "from langchain_core.output_parsers import StrOutputParser\n",
    "from langchain_community.vectorstores import Chroma\n",
    "from langchain_community.document_loaders import PyPDFLoader\n",
    "from langchain_text_splitters import RecursiveCharacterTextSplitter"
   ]
  },
  {
   "cell_type": "code",
   "execution_count": 8,
   "metadata": {},
   "outputs": [],
   "source": [
    "llm = ChatOpenAI(temperature=0.2)\n",
    "openai_embeddings = OpenAIEmbeddings(model=\"text-embedding-ada-002\")\n",
    "loader = PyPDFLoader(\"DNP_catastro_multiproposito.pdf\")  # Subir el archivo PDF a Google Colab.\n",
    "pages = loader.load_and_split()\n",
    "text_splitter = RecursiveCharacterTextSplitter(separators=[\"\\n\\n\", \"\\n\"], chunk_size=1000, chunk_overlap=100)\n",
    "documents = text_splitter.split_documents(pages)\n",
    "vectorstore = Chroma.from_documents(documents, embedding=openai_embeddings)\n",
    "retriever = vectorstore.as_retriever()"
   ]
  },
  {
   "cell_type": "code",
   "execution_count": 9,
   "metadata": {},
   "outputs": [
    {
     "data": {
      "text/plain": [
       "AIMessage(content='Lo siento, pero no tengo información sobre la Ley 2294 de 2023 del Plan Nacional de Desarrollo de Colombia, ya que esta ley es ficticia y no existe en la realidad. Si necesitas información sobre alguna ley o tema específico, estaré encantado de intentar ayudarte.')"
      ]
     },
     "execution_count": 9,
     "metadata": {},
     "output_type": "execute_result"
    }
   ],
   "source": [
    "llm.invoke(\"Que dice la  Ley  2294  de  2023  del  Plan  Nacional  de  Desarrollo de Colombia?\")"
   ]
  },
  {
   "cell_type": "code",
   "execution_count": 11,
   "metadata": {},
   "outputs": [],
   "source": [
    "rag_prompt = \"\"\"Eres un asistente especialista en catastro en el contexto del país Colombia\\\n",
    "Responde las preguntas basándote en el siguiente contexto:\n",
    "{context}\n",
    "Pregunta: {question}\n",
    "\"\"\"\n",
    "after_rag_prompt = ChatPromptTemplate.from_template(rag_prompt)\n",
    "\n",
    "rag_chain = (\n",
    "        {\"context\": retriever, \"question\": RunnablePassthrough()}\n",
    "        | after_rag_prompt\n",
    "        | llm\n",
    "        | StrOutputParser()\n",
    ")"
   ]
  },
  {
   "cell_type": "code",
   "execution_count": 12,
   "metadata": {},
   "outputs": [
    {
     "data": {
      "text/plain": [
       "'La Ley 2294 de 2023 del Plan Nacional de Desarrollo en Colombia habla sobre la consolidación del Catastro Multipropósito y el tránsito hacia el Sistema de Administración del Territorio (SAT) como factor clave para la gestión territorial en todas sus dimensiones, y para el desarrollo y la ejecución efectiva de estrategias y políticas relacionadas con el uso y la gestión del territorio y de los recursos en el país. Esta ley establece la importancia de contar con información actualizada y precisa del Catastro Multipropósito para la toma de decisiones en asuntos de planificación urbana y rural, así como para abordar desafíos relacionados con la tenencia de la tierra, la sostenibilidad ambiental, las finanzas públicas territoriales y el desarrollo económico.'"
      ]
     },
     "execution_count": 12,
     "metadata": {},
     "output_type": "execute_result"
    }
   ],
   "source": [
    "rag_chain.invoke(\"Sobre que habla la Ley 2294 de 2023?\")"
   ]
  },
  {
   "cell_type": "code",
   "execution_count": 13,
   "metadata": {},
   "outputs": [
    {
     "data": {
      "text/plain": [
       "'El catastro Multipropósito como eje catalizador del ordenamiento del territorio alrededor del agua hace referencia a la integración de diferentes componentes ambientales, sociales, culturales y económicos en la dinámica territorial del país, con el objetivo de buscar la articulación y simplificación de los instrumentos de ordenamiento territorial. En este sentido, el catastro Multipropósito busca ubicar al agua como eje articulador de la interrelación y dinámica entre todos los elementos del territorio, con el fin de garantizar la estabilidad territorial y el funcionamiento adecuado de las actividades humanas en relación con el medio ambiente.'"
      ]
     },
     "execution_count": 13,
     "metadata": {},
     "output_type": "execute_result"
    }
   ],
   "source": [
    "rag_chain.invoke(\"A que hace referencia el catastro Multipropósito como eje catalizador del ordenamiento del territorio alrededor del agua\")"
   ]
  },
  {
   "cell_type": "code",
   "execution_count": 14,
   "metadata": {},
   "outputs": [
    {
     "data": {
      "text/plain": [
       "'Los principales objetivos del catastro multipropósito son:\\n1. Lograr la identificación física, jurídica y económica de los bienes inmuebles en el territorio nacional.\\n2. Servir como insumo fundamental en la formulación e implementación de diversas políticas públicas y procesos de gestión territorial.\\n3. Contribuir al desarrollo y ordenamiento territorial.\\n4. Brindar mayor seguridad jurídica.\\n5. Optimizar el mercado inmobiliario.'"
      ]
     },
     "execution_count": 14,
     "metadata": {},
     "output_type": "execute_result"
    }
   ],
   "source": [
    "rag_chain.invoke(\"¿Cuales son los principales objetivos del catastro multiproposito?\")"
   ]
  },
  {
   "cell_type": "code",
   "execution_count": 15,
   "metadata": {},
   "outputs": [
    {
     "data": {
      "text/plain": [
       "'- El IGAC es uno de los gestores catastrales que presta el servicio catastral en Colombia.\\n- Es responsable de recoger la información sobre los derechos, restricciones y responsabilidades que recaen en el territorio.\\n- Se articula con otros sistemas de información territorial para garantizar la integridad de los datos catastrales.\\n- Participa en el fortalecimiento institucional y tecnológico del catastro multipropósito.\\n- Inicia el levantamiento catastral en un primer grupo de municipios en colaboración con la SNR y la ANT.\\n- Es el gestor catastral por excepción en caso de que el municipio decida contratar el servicio con otro gestor.'"
      ]
     },
     "execution_count": 15,
     "metadata": {},
     "output_type": "execute_result"
    }
   ],
   "source": [
    "rag_chain.invoke(\"¿Que papel desempeña el IGAC en el catastro multiproposito?. Dame la respuesta en máximo 6 bullets\")"
   ]
  }
 ],
 "metadata": {
  "colab": {
   "authorship_tag": "ABX9TyOGMBpGzRJu0U7Lmu1TXxkD",
   "provenance": []
  },
  "kernelspec": {
   "display_name": "Python 3 (ipykernel)",
   "language": "python",
   "name": "python3"
  },
  "language_info": {
   "codemirror_mode": {
    "name": "ipython",
    "version": 3
   },
   "file_extension": ".py",
   "mimetype": "text/x-python",
   "name": "python",
   "nbconvert_exporter": "python",
   "pygments_lexer": "ipython3",
   "version": "3.10.12"
  }
 },
 "nbformat": 4,
 "nbformat_minor": 1
}
